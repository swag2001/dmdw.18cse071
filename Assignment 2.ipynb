{
 "cells": [
  {
   "cell_type": "markdown",
   "metadata": {
    "id": "t50BOk5nh3Q7"
   },
   "source": [
    "# 1.Downloading a dataset from kaggle and uploading it in jupyter notebook or google colab & Performing any random operation on the dataset."
   ]
  },
  {
   "cell_type": "code",
   "execution_count": 6,
   "metadata": {
    "colab": {
     "base_uri": "https://localhost:8080/",
     "height": 402
    },
    "executionInfo": {
     "elapsed": 2497,
     "status": "ok",
     "timestamp": 1605674216643,
     "user": {
      "displayName": "akash dubey",
      "photoUrl": "https://lh3.googleusercontent.com/a-/AOh14GjiIgmlsAcapKiqrH1c0BWwEzV0hFUGvAWg1b3nqw=s64",
      "userId": "15551463113316103905"
     },
     "user_tz": -330
    },
    "id": "Hm-ZLU8IiYF6",
    "outputId": "4671c612-22f7-4873-c04d-cdd80afbc26b"
   },
   "outputs": [
    {
     "data": {
      "text/html": [
       "<div>\n",
       "<style scoped>\n",
       "    .dataframe tbody tr th:only-of-type {\n",
       "        vertical-align: middle;\n",
       "    }\n",
       "\n",
       "    .dataframe tbody tr th {\n",
       "        vertical-align: top;\n",
       "    }\n",
       "\n",
       "    .dataframe thead th {\n",
       "        text-align: right;\n",
       "    }\n",
       "</style>\n",
       "<table border=\"1\" class=\"dataframe\">\n",
       "  <thead>\n",
       "    <tr style=\"text-align: right;\">\n",
       "      <th></th>\n",
       "      <th>Year</th>\n",
       "      <th>WHO region</th>\n",
       "      <th>Country</th>\n",
       "      <th>Beverage Types</th>\n",
       "      <th>Display Value</th>\n",
       "    </tr>\n",
       "  </thead>\n",
       "  <tbody>\n",
       "    <tr>\n",
       "      <td>0</td>\n",
       "      <td>1986</td>\n",
       "      <td>Western Pacific</td>\n",
       "      <td>Viet Nam</td>\n",
       "      <td>Wine</td>\n",
       "      <td>0.00</td>\n",
       "    </tr>\n",
       "    <tr>\n",
       "      <td>1</td>\n",
       "      <td>1986</td>\n",
       "      <td>Americas</td>\n",
       "      <td>Uruguay</td>\n",
       "      <td>Other</td>\n",
       "      <td>0.50</td>\n",
       "    </tr>\n",
       "    <tr>\n",
       "      <td>2</td>\n",
       "      <td>1985</td>\n",
       "      <td>Africa</td>\n",
       "      <td>Cte d'Ivoire</td>\n",
       "      <td>Wine</td>\n",
       "      <td>1.62</td>\n",
       "    </tr>\n",
       "    <tr>\n",
       "      <td>3</td>\n",
       "      <td>1986</td>\n",
       "      <td>Americas</td>\n",
       "      <td>Colombia</td>\n",
       "      <td>Beer</td>\n",
       "      <td>4.27</td>\n",
       "    </tr>\n",
       "    <tr>\n",
       "      <td>4</td>\n",
       "      <td>1987</td>\n",
       "      <td>Americas</td>\n",
       "      <td>Saint Kitts and Nevis</td>\n",
       "      <td>Beer</td>\n",
       "      <td>1.98</td>\n",
       "    </tr>\n",
       "    <tr>\n",
       "      <td>...</td>\n",
       "      <td>...</td>\n",
       "      <td>...</td>\n",
       "      <td>...</td>\n",
       "      <td>...</td>\n",
       "      <td>...</td>\n",
       "    </tr>\n",
       "    <tr>\n",
       "      <td>95</td>\n",
       "      <td>1984</td>\n",
       "      <td>Africa</td>\n",
       "      <td>Niger</td>\n",
       "      <td>Other</td>\n",
       "      <td>0.00</td>\n",
       "    </tr>\n",
       "    <tr>\n",
       "      <td>96</td>\n",
       "      <td>1985</td>\n",
       "      <td>Europe</td>\n",
       "      <td>Luxembourg</td>\n",
       "      <td>Wine</td>\n",
       "      <td>7.38</td>\n",
       "    </tr>\n",
       "    <tr>\n",
       "      <td>97</td>\n",
       "      <td>1984</td>\n",
       "      <td>South-East Asia</td>\n",
       "      <td>Indonesia</td>\n",
       "      <td>Wine</td>\n",
       "      <td>0.00</td>\n",
       "    </tr>\n",
       "    <tr>\n",
       "      <td>98</td>\n",
       "      <td>1984</td>\n",
       "      <td>Africa</td>\n",
       "      <td>Equatorial Guinea</td>\n",
       "      <td>Wine</td>\n",
       "      <td>0.00</td>\n",
       "    </tr>\n",
       "    <tr>\n",
       "      <td>99</td>\n",
       "      <td>1985</td>\n",
       "      <td>South-East Asia</td>\n",
       "      <td>Democratic People's Republic of Korea</td>\n",
       "      <td>Wine</td>\n",
       "      <td>0.00</td>\n",
       "    </tr>\n",
       "  </tbody>\n",
       "</table>\n",
       "<p>100 rows × 5 columns</p>\n",
       "</div>"
      ],
      "text/plain": [
       "    Year       WHO region                                Country  \\\n",
       "0   1986  Western Pacific                               Viet Nam   \n",
       "1   1986         Americas                                Uruguay   \n",
       "2   1985           Africa                           Cte d'Ivoire   \n",
       "3   1986         Americas                               Colombia   \n",
       "4   1987         Americas                  Saint Kitts and Nevis   \n",
       "..   ...              ...                                    ...   \n",
       "95  1984           Africa                                  Niger   \n",
       "96  1985           Europe                             Luxembourg   \n",
       "97  1984  South-East Asia                              Indonesia   \n",
       "98  1984           Africa                      Equatorial Guinea   \n",
       "99  1985  South-East Asia  Democratic People's Republic of Korea   \n",
       "\n",
       "   Beverage Types  Display Value  \n",
       "0            Wine           0.00  \n",
       "1           Other           0.50  \n",
       "2            Wine           1.62  \n",
       "3            Beer           4.27  \n",
       "4            Beer           1.98  \n",
       "..            ...            ...  \n",
       "95          Other           0.00  \n",
       "96           Wine           7.38  \n",
       "97           Wine           0.00  \n",
       "98           Wine           0.00  \n",
       "99           Wine           0.00  \n",
       "\n",
       "[100 rows x 5 columns]"
      ]
     },
     "execution_count": 6,
     "metadata": {},
     "output_type": "execute_result"
    }
   ],
   "source": [
    "import pandas as pd\n",
    "url=\"https://raw.githubusercontent.com/swag2001/dmdw.18cse071/main/world_alcohol.csv\"\n",
    "df=pd.read_csv(url)\n",
    "df\n"
   ]
  },
  {
   "cell_type": "code",
   "execution_count": 2,
   "metadata": {
    "colab": {
     "base_uri": "https://localhost:8080/",
     "height": 195
    },
    "executionInfo": {
     "elapsed": 2514,
     "status": "ok",
     "timestamp": 1605674225042,
     "user": {
      "displayName": "akash dubey",
      "photoUrl": "https://lh3.googleusercontent.com/a-/AOh14GjiIgmlsAcapKiqrH1c0BWwEzV0hFUGvAWg1b3nqw=s64",
      "userId": "15551463113316103905"
     },
     "user_tz": -330
    },
    "id": "IcydgDIvliaK",
    "outputId": "0e57f002-9c8e-4e64-8d33-5db001495c80"
   },
   "outputs": [
    {
     "data": {
      "text/html": [
       "<div>\n",
       "<style scoped>\n",
       "    .dataframe tbody tr th:only-of-type {\n",
       "        vertical-align: middle;\n",
       "    }\n",
       "\n",
       "    .dataframe tbody tr th {\n",
       "        vertical-align: top;\n",
       "    }\n",
       "\n",
       "    .dataframe thead th {\n",
       "        text-align: right;\n",
       "    }\n",
       "</style>\n",
       "<table border=\"1\" class=\"dataframe\">\n",
       "  <thead>\n",
       "    <tr style=\"text-align: right;\">\n",
       "      <th></th>\n",
       "      <th>Year</th>\n",
       "      <th>WHO region</th>\n",
       "      <th>Country</th>\n",
       "      <th>Beverage Types</th>\n",
       "      <th>Display Value</th>\n",
       "    </tr>\n",
       "  </thead>\n",
       "  <tbody>\n",
       "    <tr>\n",
       "      <td>0</td>\n",
       "      <td>1986</td>\n",
       "      <td>Western Pacific</td>\n",
       "      <td>Viet Nam</td>\n",
       "      <td>Wine</td>\n",
       "      <td>0.00</td>\n",
       "    </tr>\n",
       "    <tr>\n",
       "      <td>1</td>\n",
       "      <td>1986</td>\n",
       "      <td>Americas</td>\n",
       "      <td>Uruguay</td>\n",
       "      <td>Other</td>\n",
       "      <td>0.50</td>\n",
       "    </tr>\n",
       "    <tr>\n",
       "      <td>2</td>\n",
       "      <td>1985</td>\n",
       "      <td>Africa</td>\n",
       "      <td>Cte d'Ivoire</td>\n",
       "      <td>Wine</td>\n",
       "      <td>1.62</td>\n",
       "    </tr>\n",
       "    <tr>\n",
       "      <td>3</td>\n",
       "      <td>1986</td>\n",
       "      <td>Americas</td>\n",
       "      <td>Colombia</td>\n",
       "      <td>Beer</td>\n",
       "      <td>4.27</td>\n",
       "    </tr>\n",
       "    <tr>\n",
       "      <td>4</td>\n",
       "      <td>1987</td>\n",
       "      <td>Americas</td>\n",
       "      <td>Saint Kitts and Nevis</td>\n",
       "      <td>Beer</td>\n",
       "      <td>1.98</td>\n",
       "    </tr>\n",
       "  </tbody>\n",
       "</table>\n",
       "</div>"
      ],
      "text/plain": [
       "   Year       WHO region                Country Beverage Types  Display Value\n",
       "0  1986  Western Pacific               Viet Nam           Wine           0.00\n",
       "1  1986         Americas                Uruguay          Other           0.50\n",
       "2  1985           Africa           Cte d'Ivoire           Wine           1.62\n",
       "3  1986         Americas               Colombia           Beer           4.27\n",
       "4  1987         Americas  Saint Kitts and Nevis           Beer           1.98"
      ]
     },
     "execution_count": 2,
     "metadata": {},
     "output_type": "execute_result"
    }
   ],
   "source": [
    "df.head()"
   ]
  },
  {
   "cell_type": "code",
   "execution_count": null,
   "metadata": {
    "colab": {
     "base_uri": "https://localhost:8080/",
     "height": 195
    },
    "executionInfo": {
     "elapsed": 2407,
     "status": "ok",
     "timestamp": 1605674230497,
     "user": {
      "displayName": "akash dubey",
      "photoUrl": "https://lh3.googleusercontent.com/a-/AOh14GjiIgmlsAcapKiqrH1c0BWwEzV0hFUGvAWg1b3nqw=s64",
      "userId": "15551463113316103905"
     },
     "user_tz": -330
    },
    "id": "l9dK10q8oxlj",
    "outputId": "935854a5-dd84-44a7-e561-1eee413667bf"
   },
   "outputs": [
    {
     "data": {
      "text/html": [
       "<div>\n",
       "<style scoped>\n",
       "    .dataframe tbody tr th:only-of-type {\n",
       "        vertical-align: middle;\n",
       "    }\n",
       "\n",
       "    .dataframe tbody tr th {\n",
       "        vertical-align: top;\n",
       "    }\n",
       "\n",
       "    .dataframe thead th {\n",
       "        text-align: right;\n",
       "    }\n",
       "</style>\n",
       "<table border=\"1\" class=\"dataframe\">\n",
       "  <thead>\n",
       "    <tr style=\"text-align: right;\">\n",
       "      <th></th>\n",
       "      <th>name</th>\n",
       "      <th>ingredients</th>\n",
       "      <th>diet</th>\n",
       "      <th>prep_time</th>\n",
       "      <th>cook_time</th>\n",
       "      <th>flavor_profile</th>\n",
       "      <th>course</th>\n",
       "      <th>state</th>\n",
       "      <th>region</th>\n",
       "    </tr>\n",
       "  </thead>\n",
       "  <tbody>\n",
       "    <tr>\n",
       "      <th>250</th>\n",
       "      <td>Til Pitha</td>\n",
       "      <td>Glutinous rice, black sesame seeds, gur</td>\n",
       "      <td>vegetarian</td>\n",
       "      <td>5</td>\n",
       "      <td>30</td>\n",
       "      <td>sweet</td>\n",
       "      <td>dessert</td>\n",
       "      <td>Assam</td>\n",
       "      <td>North East</td>\n",
       "    </tr>\n",
       "    <tr>\n",
       "      <th>251</th>\n",
       "      <td>Bebinca</td>\n",
       "      <td>Coconut milk, egg yolks, clarified butter, all...</td>\n",
       "      <td>vegetarian</td>\n",
       "      <td>20</td>\n",
       "      <td>60</td>\n",
       "      <td>sweet</td>\n",
       "      <td>dessert</td>\n",
       "      <td>Goa</td>\n",
       "      <td>West</td>\n",
       "    </tr>\n",
       "    <tr>\n",
       "      <th>252</th>\n",
       "      <td>Shufta</td>\n",
       "      <td>Cottage cheese, dry dates, dried rose petals, ...</td>\n",
       "      <td>vegetarian</td>\n",
       "      <td>-1</td>\n",
       "      <td>-1</td>\n",
       "      <td>sweet</td>\n",
       "      <td>dessert</td>\n",
       "      <td>Jammu &amp; Kashmir</td>\n",
       "      <td>North</td>\n",
       "    </tr>\n",
       "    <tr>\n",
       "      <th>253</th>\n",
       "      <td>Mawa Bati</td>\n",
       "      <td>Milk powder, dry fruits, arrowroot powder, all...</td>\n",
       "      <td>vegetarian</td>\n",
       "      <td>20</td>\n",
       "      <td>45</td>\n",
       "      <td>sweet</td>\n",
       "      <td>dessert</td>\n",
       "      <td>Madhya Pradesh</td>\n",
       "      <td>Central</td>\n",
       "    </tr>\n",
       "    <tr>\n",
       "      <th>254</th>\n",
       "      <td>Pinaca</td>\n",
       "      <td>Brown rice, fennel seeds, grated coconut, blac...</td>\n",
       "      <td>vegetarian</td>\n",
       "      <td>-1</td>\n",
       "      <td>-1</td>\n",
       "      <td>sweet</td>\n",
       "      <td>dessert</td>\n",
       "      <td>Goa</td>\n",
       "      <td>West</td>\n",
       "    </tr>\n",
       "  </tbody>\n",
       "</table>\n",
       "</div>"
      ],
      "text/plain": [
       "          name  ...      region\n",
       "250  Til Pitha  ...  North East\n",
       "251    Bebinca  ...        West\n",
       "252     Shufta  ...       North\n",
       "253  Mawa Bati  ...     Central\n",
       "254     Pinaca  ...        West\n",
       "\n",
       "[5 rows x 9 columns]"
      ]
     },
     "execution_count": 4,
     "metadata": {
      "tags": []
     },
     "output_type": "execute_result"
    }
   ],
   "source": [
    "df.tail()"
   ]
  },
  {
   "cell_type": "markdown",
   "metadata": {
    "id": "RIOCzFbOS-qH"
   },
   "source": [
    "\n",
    "# 2.Practice 10 python programs using numpy libraries."
   ]
  },
  {
   "cell_type": "code",
   "execution_count": 8,
   "metadata": {
    "colab": {
     "base_uri": "https://localhost:8080/"
    },
    "executionInfo": {
     "elapsed": 2115,
     "status": "ok",
     "timestamp": 1605747496733,
     "user": {
      "displayName": "akash dubey",
      "photoUrl": "https://lh3.googleusercontent.com/a-/AOh14GjiIgmlsAcapKiqrH1c0BWwEzV0hFUGvAWg1b3nqw=s64",
      "userId": "15551463113316103905"
     },
     "user_tz": -330
    },
    "id": "Z1RilyS82ilf",
    "outputId": "caa72fc1-08e1-4e67-9c0d-4a1c9d598877"
   },
   "outputs": [
    {
     "name": "stdout",
     "output_type": "stream",
     "text": [
      "x =\n",
      " [[1 0 0 0 0]\n",
      " [0 1 0 0 0]\n",
      " [0 0 1 0 0]\n",
      " [0 0 0 1 0]\n",
      " [0 0 0 0 1]]\n"
     ]
    }
   ],
   "source": [
    "#1.Write a NumPy program to create a 5x5 identity matrix, i.e. diagonal elements are 1, the rest are 0.\n",
    "import numpy as np\n",
    "x = np.eye(5,dtype=int)\n",
    "print(\"x =\\n\",x)"
   ]
  },
  {
   "cell_type": "code",
   "execution_count": 7,
   "metadata": {
    "colab": {
     "base_uri": "https://localhost:8080/"
    },
    "executionInfo": {
     "elapsed": 1635,
     "status": "ok",
     "timestamp": 1605747411653,
     "user": {
      "displayName": "akash dubey",
      "photoUrl": "https://lh3.googleusercontent.com/a-/AOh14GjiIgmlsAcapKiqrH1c0BWwEzV0hFUGvAWg1b3nqw=s64",
      "userId": "15551463113316103905"
     },
     "user_tz": -330
    },
    "id": "csNB-u8G2ENv",
    "outputId": "055e59f2-27bf-4d35-ede4-58781989e1e5"
   },
   "outputs": [
    {
     "name": "stdout",
     "output_type": "stream",
     "text": [
      "list to array:\n",
      " [[1 2]\n",
      " [3 4]]\n",
      "array to list:\n",
      " [[1, 2], [3, 4]]\n",
      "True\n"
     ]
    }
   ],
   "source": [
    "#2.Write a NumPy program to convert a given array into a list and then convert it into a list again.\n",
    "import numpy as np\n",
    "a = [[1, 2], [3, 4]]\n",
    "x = np.array(a)\n",
    "print(\"list to array:\\n\",x)\n",
    "a2 = x.tolist()\n",
    "print(\"array to list:\\n\",a2)\n",
    "print(a == a2)"
   ]
  },
  {
   "cell_type": "code",
   "execution_count": 21,
   "metadata": {
    "colab": {
     "base_uri": "https://localhost:8080/"
    },
    "executionInfo": {
     "elapsed": 43559,
     "status": "ok",
     "timestamp": 1605749265983,
     "user": {
      "displayName": "akash dubey",
      "photoUrl": "https://lh3.googleusercontent.com/a-/AOh14GjiIgmlsAcapKiqrH1c0BWwEzV0hFUGvAWg1b3nqw=s64",
      "userId": "15551463113316103905"
     },
     "user_tz": -330
    },
    "id": "1Oh0FRed2E7Y",
    "outputId": "7a1feba8-b4f5-4aaf-d423-9038086ab7fe"
   },
   "outputs": [
    {
     "name": "stdout",
     "output_type": "stream",
     "text": [
      "5\n",
      "0 12 45.21 34 99.91 7 9 11\n",
      "Values in Fahrenheit degrees:\n",
      "[ 0.   12.   45.21 34.   99.91]\n",
      "Values in  Centigrade degrees:\n",
      "[-17.77777778 -11.11111111   7.33888889   1.11111111  37.72777778]\n"
     ]
    }
   ],
   "source": [
    "#3.Write a NumPy program to convert the Fahrenheit degree values into Centigrade degrees. Fahrenheit values are stored into a NumPy array.\n",
    "import numpy as np\n",
    "N=int(input())# not more than N inputs will be considered\n",
    "fvalues=list(map(float, input().split(' ')[:N]))\n",
    "F = np.array(fvalues)\n",
    "print(\"Values in Fahrenheit degrees:\")\n",
    "print(F)\n",
    "print(\"Values in  Centigrade degrees:\") \n",
    "print(5*F/9 - 5*32/9)"
   ]
  },
  {
   "cell_type": "code",
   "execution_count": 34,
   "metadata": {
    "colab": {
     "base_uri": "https://localhost:8080/"
    },
    "executionInfo": {
     "elapsed": 17094,
     "status": "ok",
     "timestamp": 1605751451610,
     "user": {
      "displayName": "akash dubey",
      "photoUrl": "https://lh3.googleusercontent.com/a-/AOh14GjiIgmlsAcapKiqrH1c0BWwEzV0hFUGvAWg1b3nqw=s64",
      "userId": "15551463113316103905"
     },
     "user_tz": -330
    },
    "id": "twBNowVD2Fgb",
    "outputId": "e0bf8327-abcb-464c-958b-4fa8fa144536"
   },
   "outputs": [
    {
     "name": "stdout",
     "output_type": "stream",
     "text": [
      "Enter the number of rows:2\n",
      "Enter the number of columns:2\n",
      "Enter the entries in a single line (separated by space): \n",
      "1 0 1 2\n",
      "Original  2 x 2 -D matrix\n",
      "[[1 0]\n",
      " [1 2]]\n",
      "Determinant of the said  2 x 2 -D matrix\n",
      "2.0\n"
     ]
    }
   ],
   "source": [
    "#4.Write a NumPy program to compute the determinant of a given square array.\n",
    "import numpy as np\n",
    "from numpy import linalg as la  \n",
    "R = int(input(\"Enter the number of rows:\")) \n",
    "C = int(input(\"Enter the number of columns:\"))   \n",
    "\n",
    "if R==C:\n",
    "  print(\"Enter the entries in a single line (separated by space): \") \n",
    "  entries = list(map(int, input().split()))   \n",
    "  matrix = np.array(entries).reshape(R, C) \n",
    "  print(\"Original \",R,\"x\",C,\"-D matrix\")\n",
    "  print(matrix)\n",
    "  print(\"Determinant of the said \",R,\"x\",C,\"-D matrix\")\n",
    "  print(np.linalg.det(matrix))\n",
    "else:\n",
    "  print(\"Invalid Dimensional Array Input\")\n",
    "\n"
   ]
  },
  {
   "cell_type": "code",
   "execution_count": 35,
   "metadata": {
    "colab": {
     "base_uri": "https://localhost:8080/"
    },
    "executionInfo": {
     "elapsed": 1635,
     "status": "ok",
     "timestamp": 1605751982652,
     "user": {
      "displayName": "akash dubey",
      "photoUrl": "https://lh3.googleusercontent.com/a-/AOh14GjiIgmlsAcapKiqrH1c0BWwEzV0hFUGvAWg1b3nqw=s64",
      "userId": "15551463113316103905"
     },
     "user_tz": -330
    },
    "id": "rCtY7myn2G_Z",
    "outputId": "edfbde41-0bbb-474e-f51d-063865a53c73"
   },
   "outputs": [
    {
     "name": "stdout",
     "output_type": "stream",
     "text": [
      "Original Array:\n",
      "[[0.32531913 0.84867758 0.23364846 0.49622798 0.15253173]\n",
      " [0.79392197 0.49276077 0.87286951 0.53976324 0.84300774]\n",
      " [0.8467201  0.05459099 0.66633503 0.21761264 0.95640387]\n",
      " [0.03629694 0.20511825 0.25743377 0.07426569 0.78287193]\n",
      " [0.5316773  0.92523658 0.40253321 0.78921957 0.62935076]]\n",
      "Minimum and Maximum Values:\n",
      "0.03629693882692242 0.9564038721932087\n"
     ]
    }
   ],
   "source": [
    "#5.Write a NumPy program to create a 5x5 array with random values and find the minimum and maximum values.\n",
    "import numpy as np\n",
    "x = np.random.random((5,5))\n",
    "print(\"Original Array:\")\n",
    "print(x) \n",
    "xmin, xmax = x.min(), x.max()\n",
    "print(\"Minimum and Maximum Values:\")\n",
    "print(xmin, xmax)"
   ]
  },
  {
   "cell_type": "code",
   "execution_count": 38,
   "metadata": {
    "colab": {
     "base_uri": "https://localhost:8080/"
    },
    "executionInfo": {
     "elapsed": 1484,
     "status": "ok",
     "timestamp": 1605752216850,
     "user": {
      "displayName": "akash dubey",
      "photoUrl": "https://lh3.googleusercontent.com/a-/AOh14GjiIgmlsAcapKiqrH1c0BWwEzV0hFUGvAWg1b3nqw=s64",
      "userId": "15551463113316103905"
     },
     "user_tz": -330
    },
    "id": "1KckRHgg2FyS",
    "outputId": "bc52ed92-e536-4c23-8eee-6d476480d185"
   },
   "outputs": [
    {
     "name": "stdout",
     "output_type": "stream",
     "text": [
      "Original array:\n",
      "[0.6972338  0.22079372 0.56934933 0.56865907 0.91776691 0.82951312\n",
      " 0.59244141 0.82217863 0.20879777 0.3197765  0.96392145 0.3538719\n",
      " 0.35735848 0.41615629 0.04249898]\n",
      "\n",
      "Sorted first 5 elements:\n",
      "[0.04249898 0.20879777 0.22079372 0.3197765  0.3538719  0.35735848\n",
      " 0.41615629 0.56865907 0.56934933 0.82217863 0.96392145 0.91776691\n",
      " 0.82951312 0.59244141 0.6972338 ]\n"
     ]
    }
   ],
   "source": [
    "#6.Write a NumPy program to sort the specified number of elements from beginning of a given array.\n",
    "import numpy as np\n",
    "nums =  np.random.rand(15)\n",
    "print(\"Original array:\")\n",
    "print(nums)\n",
    "print(\"\\nSorted first 5 elements:\")\n",
    "print(nums[np.argpartition(nums,range(8))])"
   ]
  },
  {
   "cell_type": "code",
   "execution_count": 39,
   "metadata": {
    "colab": {
     "base_uri": "https://localhost:8080/"
    },
    "executionInfo": {
     "elapsed": 1342,
     "status": "ok",
     "timestamp": 1605752358612,
     "user": {
      "displayName": "akash dubey",
      "photoUrl": "https://lh3.googleusercontent.com/a-/AOh14GjiIgmlsAcapKiqrH1c0BWwEzV0hFUGvAWg1b3nqw=s64",
      "userId": "15551463113316103905"
     },
     "user_tz": -330
    },
    "id": "dkVFmBts2FUm",
    "outputId": "2afeaada-f27c-4259-9a4e-1eec09160c72"
   },
   "outputs": [
    {
     "name": "stdout",
     "output_type": "stream",
     "text": [
      "Original array: \n",
      "[[1 2 3]\n",
      " [4 5 6]]\n",
      "Cumulative sum of the elements along a given axis:\n",
      "[ 1  3  6 10 15 21]\n",
      "\n",
      "Sum over rows for each of the 3 columns:\n",
      "[[1 2 3]\n",
      " [5 7 9]]\n",
      "\n",
      "Sum over columns for each of the 2 rows:\n",
      "[[ 1  3  6]\n",
      " [ 4  9 15]]\n"
     ]
    }
   ],
   "source": [
    "#7.Write a NumPy program to calculate cumulative sum of the elements along a given axis, sum over rows for each of the 3 columns and sum over columns for each of the 2 rows of a given 3x3 array.\n",
    "import numpy as np\n",
    "x = np.array([[1,2,3], [4,5,6]])\n",
    "print(\"Original array: \")\n",
    "print(x)\n",
    "print(\"Cumulative sum of the elements along a given axis:\")\n",
    "r = np.cumsum(x)\n",
    "print(r)\n",
    "print(\"\\nSum over rows for each of the 3 columns:\")\n",
    "r = np.cumsum(x,axis=0) \n",
    "print(r)\n",
    "print(\"\\nSum over columns for each of the 2 rows:\")\n",
    "r = np.cumsum(x,axis=1) \n",
    "print(r)"
   ]
  },
  {
   "cell_type": "code",
   "execution_count": 40,
   "metadata": {
    "colab": {
     "base_uri": "https://localhost:8080/"
    },
    "executionInfo": {
     "elapsed": 1783,
     "status": "ok",
     "timestamp": 1605752570753,
     "user": {
      "displayName": "akash dubey",
      "photoUrl": "https://lh3.googleusercontent.com/a-/AOh14GjiIgmlsAcapKiqrH1c0BWwEzV0hFUGvAWg1b3nqw=s64",
      "userId": "15551463113316103905"
     },
     "user_tz": -330
    },
    "id": "jhjTHRdC2YEM",
    "outputId": "f38ce942-4df2-46ea-83b9-96607a40ff83"
   },
   "outputs": [
    {
     "name": "stdout",
     "output_type": "stream",
     "text": [
      "\n",
      "Test element-wise for finiteness (not infinity or not Not a Number):\n",
      "True\n",
      "True\n",
      "False\n",
      "\n",
      "Test element-wise for positive or negative infinity:\n",
      "True\n",
      "False\n",
      "True\n",
      "Test element-wise for NaN:\n",
      "[ True False False]\n",
      "Test element-wise for NaT (not a time):\n",
      "[ True False]\n",
      "Test element-wise for negative infinity:\n",
      "[1 0 0]\n",
      "Test element-wise for positive infinity:\n",
      "[0 0 1]\n"
     ]
    },
    {
     "name": "stderr",
     "output_type": "stream",
     "text": [
      "/usr/local/lib/python3.6/dist-packages/ipykernel_launcher.py:12: RuntimeWarning: invalid value encountered in log\n",
      "  if sys.path[0] == '':\n",
      "/usr/local/lib/python3.6/dist-packages/ipykernel_launcher.py:12: RuntimeWarning: divide by zero encountered in log\n",
      "  if sys.path[0] == '':\n"
     ]
    }
   ],
   "source": [
    "#8.Write a NumPy program to test element-wise of a given array for finiteness (not infinity or not Not a Number), positive or negative infinity, for NaN, for NaT (not a time), for negative infinity, for positive infinity.\n",
    "import numpy as np\n",
    "print(\"\\nTest element-wise for finiteness (not infinity or not Not a Number):\")\n",
    "print(np.isfinite(1))\n",
    "print(np.isfinite(0))\n",
    "print(np.isfinite(np.nan))\n",
    "print(\"\\nTest element-wise for positive or negative infinity:\")\n",
    "print(np.isinf(np.inf))\n",
    "print(np.isinf(np.nan))\n",
    "print(np.isinf(np.NINF))\n",
    "print(\"Test element-wise for NaN:\")\n",
    "print(np.isnan([np.log(-1.),1.,np.log(0)]))\n",
    "print(\"Test element-wise for NaT (not a time):\")\n",
    "print(np.isnat(np.array([\"NaT\", \"2016-01-01\"], dtype=\"datetime64[ns]\")))\n",
    "print(\"Test element-wise for negative infinity:\")\n",
    "x = np.array([-np.inf, 0., np.inf])\n",
    "y = np.array([2, 2, 2])\n",
    "print(np.isneginf(x, y))\n",
    "print(\"Test element-wise for positive infinity:\")\n",
    "x = np.array([-np.inf, 0., np.inf])\n",
    "y = np.array([2, 2, 2])\n",
    "print(np.isposinf(x, y))\n",
    "\n"
   ]
  },
  {
   "cell_type": "code",
   "execution_count": 41,
   "metadata": {
    "colab": {
     "base_uri": "https://localhost:8080/"
    },
    "executionInfo": {
     "elapsed": 1367,
     "status": "ok",
     "timestamp": 1605752777394,
     "user": {
      "displayName": "akash dubey",
      "photoUrl": "https://lh3.googleusercontent.com/a-/AOh14GjiIgmlsAcapKiqrH1c0BWwEzV0hFUGvAWg1b3nqw=s64",
      "userId": "15551463113316103905"
     },
     "user_tz": -330
    },
    "id": "WyrH7gZ32X3i",
    "outputId": "e7a3fc54-ad74-4ebf-959c-f03237aedd1a"
   },
   "outputs": [
    {
     "name": "stdout",
     "output_type": "stream",
     "text": [
      "Yestraday:  2020-11-18\n",
      "Today:  2020-11-19\n",
      "Tomorrow:  2020-11-20\n"
     ]
    }
   ],
   "source": [
    "#9.Write a NumPy program to get the dates of yesterday, today and tomorrow.\n",
    "import numpy as np\n",
    "yesterday = np.datetime64('today', 'D') - np.timedelta64(1, 'D')\n",
    "print(\"Yestraday: \",yesterday)\n",
    "today     = np.datetime64('today', 'D')\n",
    "print(\"Today: \",today)\n",
    "tomorrow  = np.datetime64('today', 'D') + np.timedelta64(1, 'D')\n",
    "print(\"Tomorrow: \",tomorrow)"
   ]
  },
  {
   "cell_type": "code",
   "execution_count": 42,
   "metadata": {
    "colab": {
     "base_uri": "https://localhost:8080/"
    },
    "executionInfo": {
     "elapsed": 1261,
     "status": "ok",
     "timestamp": 1605753128881,
     "user": {
      "displayName": "akash dubey",
      "photoUrl": "https://lh3.googleusercontent.com/a-/AOh14GjiIgmlsAcapKiqrH1c0BWwEzV0hFUGvAWg1b3nqw=s64",
      "userId": "15551463113316103905"
     },
     "user_tz": -330
    },
    "id": "HsIE19E42EoF",
    "outputId": "5f4e09dc-bab6-45f3-90f0-e61898ef2482"
   },
   "outputs": [
    {
     "name": "stdout",
     "output_type": "stream",
     "text": [
      "Original Array:\n",
      "[' python exercises ' ' PHP  ' ' java  ' '  C++']\n",
      "\n",
      "Remove the leading and trailing whitespaces:  ['python exercises' 'PHP' 'java' 'C++']\n"
     ]
    }
   ],
   "source": [
    "#10.Write a NumPy program to remove the leading and trailing whitespaces of all the elements of a given array.\n",
    "import numpy as np\n",
    "x = np.array([' python exercises ', ' PHP  ', ' java  ', '  C++'], dtype=np.str)\n",
    "print(\"Original Array:\")\n",
    "print(x)\n",
    "stripped = np.char.strip(x)\n",
    "print(\"\\nRemove the leading and trailing whitespaces: \", stripped)"
   ]
  },
  {
   "cell_type": "markdown",
   "metadata": {
    "id": "6-tMn-cq19O0"
   },
   "source": [
    "# 3.Practice 10 python programs using pandas libraries."
   ]
  },
  {
   "cell_type": "code",
   "execution_count": 43,
   "metadata": {
    "colab": {
     "base_uri": "https://localhost:8080/"
    },
    "executionInfo": {
     "elapsed": 1301,
     "status": "ok",
     "timestamp": 1605753484978,
     "user": {
      "displayName": "akash dubey",
      "photoUrl": "https://lh3.googleusercontent.com/a-/AOh14GjiIgmlsAcapKiqrH1c0BWwEzV0hFUGvAWg1b3nqw=s64",
      "userId": "15551463113316103905"
     },
     "user_tz": -330
    },
    "id": "XSnXGLit-nOW",
    "outputId": "03b10fe5-3f9d-47c0-b26b-f0303becdd4f"
   },
   "outputs": [
    {
     "name": "stdout",
     "output_type": "stream",
     "text": [
      "Add two Series:\n",
      "0     3\n",
      "1     7\n",
      "2    11\n",
      "3    15\n",
      "4    19\n",
      "dtype: int64\n",
      "Subtract two Series:\n",
      "0    1\n",
      "1    1\n",
      "2    1\n",
      "3    1\n",
      "4    1\n",
      "dtype: int64\n",
      "Multiply two Series:\n",
      "0     2\n",
      "1    12\n",
      "2    30\n",
      "3    56\n",
      "4    90\n",
      "dtype: int64\n",
      "Divide Series1 by Series2:\n",
      "0    2.000000\n",
      "1    1.333333\n",
      "2    1.200000\n",
      "3    1.142857\n",
      "4    1.111111\n",
      "dtype: float64\n"
     ]
    }
   ],
   "source": [
    "#1.Write a Pandas program to add, subtract, multiple and divide two Pandas Series.\n",
    "import pandas as pd\n",
    "ds1 = pd.Series([2, 4, 6, 8, 10])\n",
    "ds2 = pd.Series([1, 3, 5, 7, 9])\n",
    "ds = ds1 + ds2\n",
    "print(\"Add two Series:\")\n",
    "print(ds)\n",
    "print(\"Subtract two Series:\")\n",
    "ds = ds1 - ds2\n",
    "print(ds)\n",
    "print(\"Multiply two Series:\")\n",
    "ds = ds1 * ds2\n",
    "print(ds)\n",
    "print(\"Divide Series1 by Series2:\")\n",
    "ds = ds1 / ds2\n",
    "print(ds)"
   ]
  },
  {
   "cell_type": "code",
   "execution_count": 44,
   "metadata": {
    "colab": {
     "base_uri": "https://localhost:8080/"
    },
    "executionInfo": {
     "elapsed": 1638,
     "status": "ok",
     "timestamp": 1605754078688,
     "user": {
      "displayName": "akash dubey",
      "photoUrl": "https://lh3.googleusercontent.com/a-/AOh14GjiIgmlsAcapKiqrH1c0BWwEzV0hFUGvAWg1b3nqw=s64",
      "userId": "15551463113316103905"
     },
     "user_tz": -330
    },
    "id": "XEcM252U-nv2",
    "outputId": "42d11840-1a98-42e0-ebbc-41000bd35fe9"
   },
   "outputs": [
    {
     "name": "stdout",
     "output_type": "stream",
     "text": [
      "Anastasia 12.5\n",
      "Dima 9.0\n",
      "Katherine 16.5\n"
     ]
    }
   ],
   "source": [
    "#2.Write a Pandas program to iterate over rows in a DataFrame.\n",
    "import pandas as pd\n",
    "import numpy as np\n",
    "exam_data = [{'name':'Anastasia', 'score':12.5}, {'name':'Dima','score':9}, {'name':'Katherine','score':16.5}]\n",
    "df = pd.DataFrame(exam_data)\n",
    "for index, row in df.iterrows():\n",
    "    print(row['name'], row['score'])"
   ]
  },
  {
   "cell_type": "code",
   "execution_count": 45,
   "metadata": {
    "colab": {
     "base_uri": "https://localhost:8080/"
    },
    "executionInfo": {
     "elapsed": 3748,
     "status": "ok",
     "timestamp": 1605754995729,
     "user": {
      "displayName": "akash dubey",
      "photoUrl": "https://lh3.googleusercontent.com/a-/AOh14GjiIgmlsAcapKiqrH1c0BWwEzV0hFUGvAWg1b3nqw=s64",
      "userId": "15551463113316103905"
     },
     "user_tz": -330
    },
    "id": "65CXWSBk-oJU",
    "outputId": "3ed11f19-4897-4441-ba76-9daf82eeacb5"
   },
   "outputs": [
    {
     "name": "stdout",
     "output_type": "stream",
     "text": [
      "Original DataFrame:\n",
      "  school_code class            name date_of_birth  weight\n",
      "0        s001     V  Alberto Franco    15/05/2002      35\n",
      "1        s002     V    Gino Mcneill    17/05/2002      37\n",
      "2        s003    VI     Ryan Parkes    16/02/1999      33\n",
      "3        s001    VI    Eesha Hinton    25/09/1998      30\n",
      "4        s002     V    Gino Mcneill    11/05/2002      31\n",
      "5        s004    VI    David Parkes    15/09/1997      32\n",
      "\n",
      "Default Index Range:\n",
      "RangeIndex(start=0, stop=6, step=1)\n",
      "\n",
      "New Index Range:\n",
      "RangeIndex(start=10, stop=16, step=1)\n",
      "\n",
      "DataFrame with new index:\n",
      "   school_code class            name date_of_birth  weight\n",
      "10        s001     V  Alberto Franco    15/05/2002      35\n",
      "11        s002     V    Gino Mcneill    17/05/2002      37\n",
      "12        s003    VI     Ryan Parkes    16/02/1999      33\n",
      "13        s001    VI    Eesha Hinton    25/09/1998      30\n",
      "14        s002     V    Gino Mcneill    11/05/2002      31\n",
      "15        s004    VI    David Parkes    15/09/1997      32\n"
     ]
    }
   ],
   "source": [
    "#3.Write a Pandas program to start index with different value rather than 0 in a given DataFrame.\n",
    "import pandas as pd\n",
    "df = pd.DataFrame({\n",
    "    'school_code': ['s001','s002','s003','s001','s002','s004'],\n",
    "    'class': ['V', 'V', 'VI', 'VI', 'V', 'VI'],\n",
    "    'name': ['Alberto Franco','Gino Mcneill','Ryan Parkes', 'Eesha Hinton', 'Gino Mcneill', 'David Parkes'],\n",
    "    'date_of_birth': ['15/05/2002','17/05/2002','16/02/1999','25/09/1998','11/05/2002','15/09/1997'],\n",
    "    'weight': [35, 37, 33, 30, 31, 32]})\n",
    "     \n",
    "print(\"Original DataFrame:\")\n",
    "print(df)\n",
    "print(\"\\nDefault Index Range:\")\n",
    "print(df.index)\n",
    "df.index += 10 \n",
    "print(\"\\nNew Index Range:\")\n",
    "print(df.index)\n",
    "print(\"\\nDataFrame with new index:\")\n",
    "print(df)"
   ]
  },
  {
   "cell_type": "code",
   "execution_count": 46,
   "metadata": {
    "colab": {
     "base_uri": "https://localhost:8080/"
    },
    "executionInfo": {
     "elapsed": 1365,
     "status": "ok",
     "timestamp": 1605755183251,
     "user": {
      "displayName": "akash dubey",
      "photoUrl": "https://lh3.googleusercontent.com/a-/AOh14GjiIgmlsAcapKiqrH1c0BWwEzV0hFUGvAWg1b3nqw=s64",
      "userId": "15551463113316103905"
     },
     "user_tz": -330
    },
    "id": "PlNeJs_m-oju",
    "outputId": "150c5ed9-d9eb-492a-b39c-4ddada3d10ff"
   },
   "outputs": [
    {
     "name": "stdout",
     "output_type": "stream",
     "text": [
      "Original DataFrame:\n",
      "  company_code               company_phone_no\n",
      "0        c0001  Company1-Phone no. 4695168357\n",
      "1        c0002  Company2-Phone no. 8088729013\n",
      "2        c0003  Company3-Phone no. 6204658086\n",
      "3        c0003  Company4-Phone no. 5159530096\n",
      "4        c0004  Company5-Phone no. 9037952371\n",
      "\\Extracting numbers from dataframe columns:\n",
      "  company_code               company_phone_no      number\n",
      "0        c0001  Company1-Phone no. 4695168357  4695168357\n",
      "1        c0002  Company2-Phone no. 8088729013  8088729013\n",
      "2        c0003  Company3-Phone no. 6204658086  6204658086\n",
      "3        c0003  Company4-Phone no. 5159530096  5159530096\n",
      "4        c0004  Company5-Phone no. 9037952371  9037952371\n"
     ]
    }
   ],
   "source": [
    "#4.Write a Pandas program to extract only phone number from the specified column of a given DataFrame.\n",
    "import pandas as pd\n",
    "import re as re\n",
    "pd.set_option('display.max_columns', 10)\n",
    "df = pd.DataFrame({\n",
    "    'company_code': ['c0001','c0002','c0003', 'c0003', 'c0004'],\n",
    "    'company_phone_no': ['Company1-Phone no. 4695168357','Company2-Phone no. 8088729013','Company3-Phone no. 6204658086', 'Company4-Phone no. 5159530096', 'Company5-Phone no. 9037952371']\n",
    "    })\n",
    "print(\"Original DataFrame:\")\n",
    "print(df)\n",
    "def find_phone_number(text):\n",
    "    ph_no = re.findall(r\"\\b\\d{10}\\b\",text)\n",
    "    return \"\".join(ph_no)\n",
    "df['number']=df['company_phone_no'].apply(lambda x: find_phone_number(x))\n",
    "print(\"\\Extracting numbers from dataframe columns:\")\n",
    "print(df)"
   ]
  },
  {
   "cell_type": "code",
   "execution_count": 47,
   "metadata": {
    "colab": {
     "base_uri": "https://localhost:8080/"
    },
    "executionInfo": {
     "elapsed": 1445,
     "status": "ok",
     "timestamp": 1605755517607,
     "user": {
      "displayName": "akash dubey",
      "photoUrl": "https://lh3.googleusercontent.com/a-/AOh14GjiIgmlsAcapKiqrH1c0BWwEzV0hFUGvAWg1b3nqw=s64",
      "userId": "15551463113316103905"
     },
     "user_tz": -330
    },
    "id": "1GCklM1C-oX5",
    "outputId": "8097d5ed-d46f-4512-889b-23bd39a1c318"
   },
   "outputs": [
    {
     "name": "stdout",
     "output_type": "stream",
     "text": [
      "Original DataFrames:\n",
      "     A  B\n",
      "0  NaN  3\n",
      "1  0.0  4\n",
      "2  NaN  5\n",
      "--------------------\n",
      "   A    B\n",
      "0  1  3.0\n",
      "1  1  NaN\n",
      "2  3  3.0\n",
      "\n",
      "Merge two dataframes with different columns:\n",
      "     A  B\n",
      "0  1.0  3\n",
      "1  0.0  4\n",
      "2  3.0  5\n"
     ]
    }
   ],
   "source": [
    "#5.Write a Pandas program to Combine two DataFrame objects by filling null values in one DataFrame with non-null values from other DataFrame.\n",
    "import pandas as pd\n",
    "df1 = pd.DataFrame({'A': [None, 0, None], 'B': [3, 4, 5]})\n",
    "df2 = pd.DataFrame({'A': [1, 1, 3], 'B': [3, None, 3]})\n",
    "df1.combine_first(df2)\n",
    "print(\"Original DataFrames:\")\n",
    "print(df1)\n",
    "print(\"--------------------\")\n",
    "print(df2)\n",
    "print(\"\\nMerge two dataframes with different columns:\")\n",
    "result = df1.combine_first(df2)\n",
    "print(result)"
   ]
  },
  {
   "cell_type": "code",
   "execution_count": 48,
   "metadata": {
    "colab": {
     "base_uri": "https://localhost:8080/"
    },
    "executionInfo": {
     "elapsed": 1377,
     "status": "ok",
     "timestamp": 1605755749648,
     "user": {
      "displayName": "akash dubey",
      "photoUrl": "https://lh3.googleusercontent.com/a-/AOh14GjiIgmlsAcapKiqrH1c0BWwEzV0hFUGvAWg1b3nqw=s64",
      "userId": "15551463113316103905"
     },
     "user_tz": -330
    },
    "id": "y5wr0Gr5-n9y",
    "outputId": "6589359c-0743-4f21-98f6-ba2ef02be774"
   },
   "outputs": [
    {
     "name": "stdout",
     "output_type": "stream",
     "text": [
      "Datetime object for Jan 11 2012:\n",
      "2012-01-11 00:00:00\n",
      "\n",
      "Specific date and time of 9:20 pm\n",
      "2011-01-11 21:20:00\n",
      "\n",
      "Local date and time:\n",
      "2020-11-19 03:15:48.435195\n",
      "\n",
      "A date without time: \n",
      "2012-05-22\n",
      "\n",
      "Current date:\n",
      "2020-11-19\n",
      "\n",
      "Time from a datetime:\n",
      "18:12:00\n",
      "\n",
      "Current local time:\n",
      "03:15:48.435939\n"
     ]
    }
   ],
   "source": [
    "#6.Write a Pandas program to create\n",
    "#a) Datetime object for Jan 15 2012.\n",
    "#b) Specific date and time of 9:20 pm.\n",
    "#c) Local date and time.\n",
    "#d) A date without time.\n",
    "#e) Current date.\n",
    "#f) Time from a datetime.\n",
    "#g) Current local time.\n",
    "import datetime\n",
    "from datetime import datetime\n",
    "print(\"Datetime object for Jan 11 2012:\")\n",
    "print(datetime(2012, 1, 11))\n",
    "print(\"\\nSpecific date and time of 9:20 pm\") \n",
    "print(datetime(2011, 1, 11, 21, 20))\n",
    "print(\"\\nLocal date and time:\")\n",
    "print(datetime.now())\n",
    "print(\"\\nA date without time: \")\n",
    "print(datetime.date(datetime(2012, 5, 22)))\n",
    "print(\"\\nCurrent date:\")\n",
    "print(datetime.now().date())\n",
    "print(\"\\nTime from a datetime:\")\n",
    "print(datetime.time(datetime(2012, 12, 15, 18, 12)))\n",
    "print(\"\\nCurrent local time:\") \n",
    "print(datetime.now().time())"
   ]
  },
  {
   "cell_type": "code",
   "execution_count": 5,
   "metadata": {
    "colab": {
     "base_uri": "https://localhost:8080/"
    },
    "executionInfo": {
     "elapsed": 1419,
     "status": "ok",
     "timestamp": 1605756438592,
     "user": {
      "displayName": "akash dubey",
      "photoUrl": "https://lh3.googleusercontent.com/a-/AOh14GjiIgmlsAcapKiqrH1c0BWwEzV0hFUGvAWg1b3nqw=s64",
      "userId": "15551463113316103905"
     },
     "user_tz": -330
    },
    "id": "v3iZeynX-nkl",
    "outputId": "dc7646af-f9f6-4454-e3f6-fd09a97ac57c"
   },
   "outputs": [
    {
     "name": "stdout",
     "output_type": "stream",
     "text": [
      "World alcohol consumption sample data:\n",
      "   Year       WHO region                Country Beverage Types  Display Value\n",
      "0  1986  Western Pacific               Viet Nam           Wine           0.00\n",
      "1  1986         Americas                Uruguay          Other           0.50\n",
      "2  1985           Africa           Cte d'Ivoire           Wine           1.62\n",
      "3  1986         Americas               Colombia           Beer           4.27\n",
      "4  1987         Americas  Saint Kitts and Nevis           Beer           1.98\n",
      "\n",
      "The world alcohol consumption details in the year ‘1986’ or ‘1989’ where  WHO region is ‘Americas’  or 'Europe':\n",
      "    Year WHO region                                            Country  \\\n",
      "11  1989   Americas                                          Guatemala   \n",
      "21  1989   Americas                                         Costa Rica   \n",
      "26  1985     Europe  United Kingdom of Great Britain and Northern I...   \n",
      "35  1985   Americas                              Saint Kitts and Nevis   \n",
      "44  1985     Europe                                          Lithuania   \n",
      "50  1985     Europe                                        Switzerland   \n",
      "55  1989   Americas                                           Suriname   \n",
      "57  1989     Europe                                            Croatia   \n",
      "64  1989   Americas                   Bolivia (Plurinational State of)   \n",
      "78  1989   Americas                                            Jamaica   \n",
      "\n",
      "   Beverage Types  Display Value  \n",
      "11           Beer           0.62  \n",
      "21        Spirits           4.51  \n",
      "26           Wine           1.36  \n",
      "35        Spirits           2.24  \n",
      "44          Other            NaN  \n",
      "50          Other           0.30  \n",
      "55           Wine           0.04  \n",
      "57           Wine           5.10  \n",
      "64           Beer           1.26  \n",
      "78          Other           0.00  \n"
     ]
    }
   ],
   "source": [
    "#7.Write a Pandas program to find out the alcohol consumption details in the year '1986' or '1989' where WHO region is 'Americas' or 'Europe' from the world alcohol consumption dataset.\n",
    "import pandas as pd\n",
    "url = \"https://raw.githubusercontent.com/swag2001/dmdw.18cse071/main/world_alcohol.csv\"\n",
    "w_a_con =pd.read_csv(url)\n",
    "print(\"World alcohol consumption sample data:\")\n",
    "print(w_a_con.head())\n",
    "print(\"\\nThe world alcohol consumption details in the year ‘1986’ or ‘1989’ where  WHO region is ‘Americas’  or 'Europe':\")\n",
    "print(w_a_con[((w_a_con['Year']==1985) | (w_a_con['Year']==1989)) & ((w_a_con['WHO region']=='Americas') | (w_a_con['WHO region']=='Europe'))].head(10))\n"
   ]
  },
  {
   "cell_type": "code",
   "execution_count": 52,
   "metadata": {
    "colab": {
     "base_uri": "https://localhost:8080/"
    },
    "executionInfo": {
     "elapsed": 1352,
     "status": "ok",
     "timestamp": 1605756806782,
     "user": {
      "displayName": "akash dubey",
      "photoUrl": "https://lh3.googleusercontent.com/a-/AOh14GjiIgmlsAcapKiqrH1c0BWwEzV0hFUGvAWg1b3nqw=s64",
      "userId": "15551463113316103905"
     },
     "user_tz": -330
    },
    "id": "b1-z1N_p-nBm",
    "outputId": "d9055228-2c28-49bc-da29-aeaa4f61b0a0"
   },
   "outputs": [
    {
     "name": "stdout",
     "output_type": "stream",
     "text": [
      "Original Orders DataFrame:\n",
      "    ord_no  purch_amt    ord_date  customer_id  salesman_id\n",
      "0    70001     150.50  2012-10-05         3005         5002\n",
      "1    70009     270.65  2012-09-10         3001         5005\n",
      "2    70002      65.26  2012-10-05         3002         5001\n",
      "3    70004     110.50  2012-08-17         3009         5003\n",
      "4    70007     948.50  2012-09-10         3005         5002\n",
      "5    70005    2400.60  2012-07-27         3007         5001\n",
      "6    70008    5760.00  2012-09-10         3002         5001\n",
      "7    70010    1983.43  2012-10-10         3004         5004\n",
      "8    70003    2480.40  2012-10-10         3009         5003\n",
      "9    70012     250.45  2012-06-27         3008         5002\n",
      "10   70011      75.29  2012-08-17         3003         5004\n",
      "11   70013    3045.60  2012-04-25         3002         5001\n",
      "\n",
      "Groupby to find first order date for each group(salesman_id):\n",
      "salesman_id\n",
      "5001    2012-04-25\n",
      "5002    2012-06-27\n",
      "5003    2012-08-17\n",
      "5004    2012-08-17\n",
      "5005    2012-09-10\n",
      "Name: ord_date, dtype: object\n"
     ]
    }
   ],
   "source": [
    "#8\n",
    "\"\"\"Write a Pandas program to split the following dataset using group by on 'salesman_id' and find the first order date for each group.\n",
    "\n",
    "Test Data:\n",
    "\n",
    "    ord_no  purch_amt    ord_date  customer_id  salesman_id\n",
    "0    70001     150.50  2012-10-05         3002         5002\n",
    "1    70009     270.65  2012-09-10         3001         5003\n",
    "2    70002      65.26  2012-10-05         3001         5001\n",
    "3    70004     110.50  2012-08-17         3003         5003\n",
    "4    70007     948.50  2012-09-10         3002         5002\n",
    "5    70005    2400.60  2012-07-27         3002         5001\n",
    "6    70008    5760.00  2012-09-10         3001         5001\n",
    "7    70010    1983.43  2012-10-10         3004         5003\n",
    "8    70003    2480.40  2012-10-10         3003         5003\n",
    "9    70012     250.45  2012-06-27         3002         5002\n",
    "10   70011      75.29  2012-08-17         3003         5003\n",
    "11   70013    3045.60  2012-04-25         3001         5001\"\"\"\n",
    "import pandas as pd\n",
    "pd.set_option('display.max_rows', None)\n",
    "#pd.set_option('display.max_columns', None)\n",
    "df = pd.DataFrame({\n",
    "'ord_no':[70001,70009,70002,70004,70007,70005,70008,70010,70003,70012,70011,70013],\n",
    "'purch_amt':[150.5,270.65,65.26,110.5,948.5,2400.6,5760,1983.43,2480.4,250.45, 75.29,3045.6],\n",
    "'ord_date': ['2012-10-05','2012-09-10','2012-10-05','2012-08-17','2012-09-10','2012-07-27','2012-09-10','2012-10-10','2012-10-10','2012-06-27','2012-08-17','2012-04-25'],\n",
    "'customer_id':[3005,3001,3002,3009,3005,3007,3002,3004,3009,3008,3003,3002],\n",
    "'salesman_id': [5002,5005,5001,5003,5002,5001,5001,5004,5003,5002,5004,5001]})\n",
    "print(\"Original Orders DataFrame:\")\n",
    "print(df)\n",
    "print(\"\\nGroupby to find first order date for each group(salesman_id):\")\n",
    "result = df.groupby('salesman_id')['ord_date'].min()\n",
    "print(result)"
   ]
  },
  {
   "cell_type": "code",
   "execution_count": 53,
   "metadata": {
    "colab": {
     "base_uri": "https://localhost:8080/"
    },
    "executionInfo": {
     "elapsed": 1840,
     "status": "ok",
     "timestamp": 1605757032801,
     "user": {
      "displayName": "akash dubey",
      "photoUrl": "https://lh3.googleusercontent.com/a-/AOh14GjiIgmlsAcapKiqrH1c0BWwEzV0hFUGvAWg1b3nqw=s64",
      "userId": "15551463113316103905"
     },
     "user_tz": -330
    },
    "id": "MjfzhHn3L9TV",
    "outputId": "0fa0830c-d6d3-4a49-fb2d-5e2d2786d832"
   },
   "outputs": [
    {
     "name": "stdout",
     "output_type": "stream",
     "text": [
      "Original Orders DataFrame:\n",
      "   ord_no purch_amt    ord_date customer_id salesman_id\n",
      "0   70001     150.5           ?        3002        5002\n",
      "1     NaN    270.65  2012-09-10        3001        5003\n",
      "2   70002     65.26         NaN        3001           ?\n",
      "3   70004     110.5  2012-08-17        3003        5001\n",
      "4     NaN     948.5  2012-09-10        3002         NaN\n",
      "5   70005    2400.6  2012-07-27        3001        5002\n",
      "6      --      5760  2012-09-10        3001        5001\n",
      "7   70010         ?  2012-10-10        3004           ?\n",
      "8   70003     12.43  2012-10-10          --        5003\n",
      "9   70012    2480.4  2012-06-27        3002        5002\n",
      "10    NaN    250.45  2012-08-17        3001        5003\n",
      "11  70013    3045.6  2012-04-25        3001          --\n",
      "\n",
      "Replace the missing values with NaN:\n",
      "     ord_no  purch_amt    ord_date  customer_id  salesman_id\n",
      "0   70001.0     150.50         NaN       3002.0       5002.0\n",
      "1       NaN     270.65  2012-09-10       3001.0       5003.0\n",
      "2   70002.0      65.26         NaN       3001.0          NaN\n",
      "3   70004.0     110.50  2012-08-17       3003.0       5001.0\n",
      "4       NaN     948.50  2012-09-10       3002.0          NaN\n",
      "5   70005.0    2400.60  2012-07-27       3001.0       5002.0\n",
      "6       NaN    5760.00  2012-09-10       3001.0       5001.0\n",
      "7   70010.0        NaN  2012-10-10       3004.0          NaN\n",
      "8   70003.0      12.43  2012-10-10          NaN       5003.0\n",
      "9   70012.0    2480.40  2012-06-27       3002.0       5002.0\n",
      "10      NaN     250.45  2012-08-17       3001.0       5003.0\n",
      "11  70013.0    3045.60  2012-04-25       3001.0          NaN\n"
     ]
    }
   ],
   "source": [
    "#9\n",
    "\"\"\"Write a Pandas program to find and replace the missing values in a given DataFrame which do not have any valuable information.\n",
    "\n",
    "Example:\n",
    "Missing values: ?, --\n",
    "Replace those values with NaN\n",
    "\n",
    "Test Data:\n",
    "\n",
    "   ord_no purch_amt    ord_date customer_id salesman_id\n",
    "0   70001     150.5           ?        3002        5002\n",
    "1     NaN    270.65  2012-09-10        3001        5003\n",
    "2   70002     65.26         NaN        3001           ?\n",
    "3   70004     110.5  2012-08-17        3003        5001\n",
    "4     NaN     948.5  2012-09-10        3002         NaN\n",
    "5   70005    2400.6  2012-07-27        3001        5002\n",
    "6      --      5760  2012-09-10        3001        5001\n",
    "7   70010         ?  2012-10-10        3004           ?\n",
    "8   70003     12.43  2012-10-10          --        5003\n",
    "9   70012    2480.4  2012-06-27        3002        5002\n",
    "10    NaN    250.45  2012-08-17        3001        5003\n",
    "11  70013    3045.6  2012-04-25        3001          --   \"\"\"\n",
    "import numpy as np\n",
    "pd.set_option('display.max_rows', None)\n",
    "#pd.set_option('display.max_columns', None)\n",
    "df = pd.DataFrame({\n",
    "'ord_no':[70001,np.nan,70002,70004,np.nan,70005,\"--\",70010,70003,70012,np.nan,70013],\n",
    "'purch_amt':[150.5,270.65,65.26,110.5,948.5,2400.6,5760,\"?\",12.43,2480.4,250.45, 3045.6],\n",
    "'ord_date': ['?','2012-09-10',np.nan,'2012-08-17','2012-09-10','2012-07-27','2012-09-10','2012-10-10','2012-10-10','2012-06-27','2012-08-17','2012-04-25'],\n",
    "'customer_id':[3002,3001,3001,3003,3002,3001,3001,3004,\"--\",3002,3001,3001],\n",
    "'salesman_id':[5002,5003,\"?\",5001,np.nan,5002,5001,\"?\",5003,5002,5003,\"--\"]})\n",
    "print(\"Original Orders DataFrame:\")\n",
    "print(df)\n",
    "print(\"\\nReplace the missing values with NaN:\")\n",
    "result = df.replace({\"?\": np.nan, \"--\": np.nan})\n",
    "print(result)\n",
    "\n"
   ]
  },
  {
   "cell_type": "code",
   "execution_count": 54,
   "metadata": {
    "colab": {
     "base_uri": "https://localhost:8080/",
     "height": 474
    },
    "executionInfo": {
     "elapsed": 1322,
     "status": "ok",
     "timestamp": 1605757260346,
     "user": {
      "displayName": "akash dubey",
      "photoUrl": "https://lh3.googleusercontent.com/a-/AOh14GjiIgmlsAcapKiqrH1c0BWwEzV0hFUGvAWg1b3nqw=s64",
      "userId": "15551463113316103905"
     },
     "user_tz": -330
    },
    "id": "Jz5Tdht0-ra_",
    "outputId": "26d5b216-32bb-4c3e-bea2-cde9eb3c95da"
   },
   "outputs": [
    {
     "name": "stdout",
     "output_type": "stream",
     "text": [
      "Original array:\n",
      "      A         B         C         D         E\n",
      "0   1.0  1.329212       NaN -0.316280 -0.990810\n",
      "1   2.0 -1.070816 -1.438713  0.564417  0.295722\n",
      "2   3.0 -1.626404  0.219565  0.678805  1.889273\n",
      "3   4.0  0.961538  0.104011       NaN  0.850229\n",
      "4   5.0       NaN  1.057737  0.165562  0.515018\n",
      "5   6.0 -1.336936  0.562861  1.392855 -0.063328\n",
      "6   7.0  0.121668  1.207603 -0.002040  1.627796\n",
      "7   8.0  0.354493  1.037528 -0.385684  0.519818\n",
      "8   9.0  1.686583 -1.325963  1.428984 -2.089354\n",
      "9  10.0 -0.129820  0.631523 -0.586538       NaN\n",
      "\n",
      "Bar charts in dataframe:\n"
     ]
    },
    {
     "data": {
      "text/html": [
       "<style  type=\"text/css\" >\n",
       "#T_09dc5c7e_2a19_11eb_848e_0242ac1c0002row0_col1{\n",
       "            width:  10em;\n",
       "             height:  80%;\n",
       "            background:  linear-gradient(90deg,#d65f5f 89.2%, transparent 89.2%);\n",
       "        }#T_09dc5c7e_2a19_11eb_848e_0242ac1c0002row1_col1{\n",
       "            width:  10em;\n",
       "             height:  80%;\n",
       "            background:  linear-gradient(90deg,#d65f5f 16.8%, transparent 16.8%);\n",
       "        }#T_09dc5c7e_2a19_11eb_848e_0242ac1c0002row1_col2,#T_09dc5c7e_2a19_11eb_848e_0242ac1c0002row2_col1{\n",
       "            width:  10em;\n",
       "             height:  80%;\n",
       "        }#T_09dc5c7e_2a19_11eb_848e_0242ac1c0002row2_col2{\n",
       "            width:  10em;\n",
       "             height:  80%;\n",
       "            background:  linear-gradient(90deg,#d65f5f 62.7%, transparent 62.7%);\n",
       "        }#T_09dc5c7e_2a19_11eb_848e_0242ac1c0002row3_col1{\n",
       "            width:  10em;\n",
       "             height:  80%;\n",
       "            background:  linear-gradient(90deg,#d65f5f 78.1%, transparent 78.1%);\n",
       "        }#T_09dc5c7e_2a19_11eb_848e_0242ac1c0002row3_col2{\n",
       "            width:  10em;\n",
       "             height:  80%;\n",
       "            background:  linear-gradient(90deg,#d65f5f 58.3%, transparent 58.3%);\n",
       "        }#T_09dc5c7e_2a19_11eb_848e_0242ac1c0002row4_col2{\n",
       "            width:  10em;\n",
       "             height:  80%;\n",
       "            background:  linear-gradient(90deg,#d65f5f 94.3%, transparent 94.3%);\n",
       "        }#T_09dc5c7e_2a19_11eb_848e_0242ac1c0002row5_col1{\n",
       "            width:  10em;\n",
       "             height:  80%;\n",
       "            background:  linear-gradient(90deg,#d65f5f 8.7%, transparent 8.7%);\n",
       "        }#T_09dc5c7e_2a19_11eb_848e_0242ac1c0002row5_col2{\n",
       "            width:  10em;\n",
       "             height:  80%;\n",
       "            background:  linear-gradient(90deg,#d65f5f 75.6%, transparent 75.6%);\n",
       "        }#T_09dc5c7e_2a19_11eb_848e_0242ac1c0002row6_col1{\n",
       "            width:  10em;\n",
       "             height:  80%;\n",
       "            background:  linear-gradient(90deg,#d65f5f 52.8%, transparent 52.8%);\n",
       "        }#T_09dc5c7e_2a19_11eb_848e_0242ac1c0002row6_col2,#T_09dc5c7e_2a19_11eb_848e_0242ac1c0002row8_col1{\n",
       "            width:  10em;\n",
       "             height:  80%;\n",
       "            background:  linear-gradient(90deg,#d65f5f 100.0%, transparent 100.0%);\n",
       "        }#T_09dc5c7e_2a19_11eb_848e_0242ac1c0002row7_col1{\n",
       "            width:  10em;\n",
       "             height:  80%;\n",
       "            background:  linear-gradient(90deg,#d65f5f 59.8%, transparent 59.8%);\n",
       "        }#T_09dc5c7e_2a19_11eb_848e_0242ac1c0002row7_col2{\n",
       "            width:  10em;\n",
       "             height:  80%;\n",
       "            background:  linear-gradient(90deg,#d65f5f 93.6%, transparent 93.6%);\n",
       "        }#T_09dc5c7e_2a19_11eb_848e_0242ac1c0002row8_col2{\n",
       "            width:  10em;\n",
       "             height:  80%;\n",
       "            background:  linear-gradient(90deg,#d65f5f 4.3%, transparent 4.3%);\n",
       "        }#T_09dc5c7e_2a19_11eb_848e_0242ac1c0002row9_col1{\n",
       "            width:  10em;\n",
       "             height:  80%;\n",
       "            background:  linear-gradient(90deg,#d65f5f 45.2%, transparent 45.2%);\n",
       "        }#T_09dc5c7e_2a19_11eb_848e_0242ac1c0002row9_col2{\n",
       "            width:  10em;\n",
       "             height:  80%;\n",
       "            background:  linear-gradient(90deg,#d65f5f 78.2%, transparent 78.2%);\n",
       "        }</style><table id=\"T_09dc5c7e_2a19_11eb_848e_0242ac1c0002\" ><thead>    <tr>        <th class=\"blank level0\" ></th>        <th class=\"col_heading level0 col0\" >A</th>        <th class=\"col_heading level0 col1\" >B</th>        <th class=\"col_heading level0 col2\" >C</th>        <th class=\"col_heading level0 col3\" >D</th>        <th class=\"col_heading level0 col4\" >E</th>    </tr></thead><tbody>\n",
       "                <tr>\n",
       "                        <th id=\"T_09dc5c7e_2a19_11eb_848e_0242ac1c0002level0_row0\" class=\"row_heading level0 row0\" >0</th>\n",
       "                        <td id=\"T_09dc5c7e_2a19_11eb_848e_0242ac1c0002row0_col0\" class=\"data row0 col0\" >1.000000</td>\n",
       "                        <td id=\"T_09dc5c7e_2a19_11eb_848e_0242ac1c0002row0_col1\" class=\"data row0 col1\" >1.329212</td>\n",
       "                        <td id=\"T_09dc5c7e_2a19_11eb_848e_0242ac1c0002row0_col2\" class=\"data row0 col2\" >nan</td>\n",
       "                        <td id=\"T_09dc5c7e_2a19_11eb_848e_0242ac1c0002row0_col3\" class=\"data row0 col3\" >-0.316280</td>\n",
       "                        <td id=\"T_09dc5c7e_2a19_11eb_848e_0242ac1c0002row0_col4\" class=\"data row0 col4\" >-0.990810</td>\n",
       "            </tr>\n",
       "            <tr>\n",
       "                        <th id=\"T_09dc5c7e_2a19_11eb_848e_0242ac1c0002level0_row1\" class=\"row_heading level0 row1\" >1</th>\n",
       "                        <td id=\"T_09dc5c7e_2a19_11eb_848e_0242ac1c0002row1_col0\" class=\"data row1 col0\" >2.000000</td>\n",
       "                        <td id=\"T_09dc5c7e_2a19_11eb_848e_0242ac1c0002row1_col1\" class=\"data row1 col1\" >-1.070816</td>\n",
       "                        <td id=\"T_09dc5c7e_2a19_11eb_848e_0242ac1c0002row1_col2\" class=\"data row1 col2\" >-1.438713</td>\n",
       "                        <td id=\"T_09dc5c7e_2a19_11eb_848e_0242ac1c0002row1_col3\" class=\"data row1 col3\" >0.564417</td>\n",
       "                        <td id=\"T_09dc5c7e_2a19_11eb_848e_0242ac1c0002row1_col4\" class=\"data row1 col4\" >0.295722</td>\n",
       "            </tr>\n",
       "            <tr>\n",
       "                        <th id=\"T_09dc5c7e_2a19_11eb_848e_0242ac1c0002level0_row2\" class=\"row_heading level0 row2\" >2</th>\n",
       "                        <td id=\"T_09dc5c7e_2a19_11eb_848e_0242ac1c0002row2_col0\" class=\"data row2 col0\" >3.000000</td>\n",
       "                        <td id=\"T_09dc5c7e_2a19_11eb_848e_0242ac1c0002row2_col1\" class=\"data row2 col1\" >-1.626404</td>\n",
       "                        <td id=\"T_09dc5c7e_2a19_11eb_848e_0242ac1c0002row2_col2\" class=\"data row2 col2\" >0.219565</td>\n",
       "                        <td id=\"T_09dc5c7e_2a19_11eb_848e_0242ac1c0002row2_col3\" class=\"data row2 col3\" >0.678805</td>\n",
       "                        <td id=\"T_09dc5c7e_2a19_11eb_848e_0242ac1c0002row2_col4\" class=\"data row2 col4\" >1.889273</td>\n",
       "            </tr>\n",
       "            <tr>\n",
       "                        <th id=\"T_09dc5c7e_2a19_11eb_848e_0242ac1c0002level0_row3\" class=\"row_heading level0 row3\" >3</th>\n",
       "                        <td id=\"T_09dc5c7e_2a19_11eb_848e_0242ac1c0002row3_col0\" class=\"data row3 col0\" >4.000000</td>\n",
       "                        <td id=\"T_09dc5c7e_2a19_11eb_848e_0242ac1c0002row3_col1\" class=\"data row3 col1\" >0.961538</td>\n",
       "                        <td id=\"T_09dc5c7e_2a19_11eb_848e_0242ac1c0002row3_col2\" class=\"data row3 col2\" >0.104011</td>\n",
       "                        <td id=\"T_09dc5c7e_2a19_11eb_848e_0242ac1c0002row3_col3\" class=\"data row3 col3\" >nan</td>\n",
       "                        <td id=\"T_09dc5c7e_2a19_11eb_848e_0242ac1c0002row3_col4\" class=\"data row3 col4\" >0.850229</td>\n",
       "            </tr>\n",
       "            <tr>\n",
       "                        <th id=\"T_09dc5c7e_2a19_11eb_848e_0242ac1c0002level0_row4\" class=\"row_heading level0 row4\" >4</th>\n",
       "                        <td id=\"T_09dc5c7e_2a19_11eb_848e_0242ac1c0002row4_col0\" class=\"data row4 col0\" >5.000000</td>\n",
       "                        <td id=\"T_09dc5c7e_2a19_11eb_848e_0242ac1c0002row4_col1\" class=\"data row4 col1\" >nan</td>\n",
       "                        <td id=\"T_09dc5c7e_2a19_11eb_848e_0242ac1c0002row4_col2\" class=\"data row4 col2\" >1.057737</td>\n",
       "                        <td id=\"T_09dc5c7e_2a19_11eb_848e_0242ac1c0002row4_col3\" class=\"data row4 col3\" >0.165562</td>\n",
       "                        <td id=\"T_09dc5c7e_2a19_11eb_848e_0242ac1c0002row4_col4\" class=\"data row4 col4\" >0.515018</td>\n",
       "            </tr>\n",
       "            <tr>\n",
       "                        <th id=\"T_09dc5c7e_2a19_11eb_848e_0242ac1c0002level0_row5\" class=\"row_heading level0 row5\" >5</th>\n",
       "                        <td id=\"T_09dc5c7e_2a19_11eb_848e_0242ac1c0002row5_col0\" class=\"data row5 col0\" >6.000000</td>\n",
       "                        <td id=\"T_09dc5c7e_2a19_11eb_848e_0242ac1c0002row5_col1\" class=\"data row5 col1\" >-1.336936</td>\n",
       "                        <td id=\"T_09dc5c7e_2a19_11eb_848e_0242ac1c0002row5_col2\" class=\"data row5 col2\" >0.562861</td>\n",
       "                        <td id=\"T_09dc5c7e_2a19_11eb_848e_0242ac1c0002row5_col3\" class=\"data row5 col3\" >1.392855</td>\n",
       "                        <td id=\"T_09dc5c7e_2a19_11eb_848e_0242ac1c0002row5_col4\" class=\"data row5 col4\" >-0.063328</td>\n",
       "            </tr>\n",
       "            <tr>\n",
       "                        <th id=\"T_09dc5c7e_2a19_11eb_848e_0242ac1c0002level0_row6\" class=\"row_heading level0 row6\" >6</th>\n",
       "                        <td id=\"T_09dc5c7e_2a19_11eb_848e_0242ac1c0002row6_col0\" class=\"data row6 col0\" >7.000000</td>\n",
       "                        <td id=\"T_09dc5c7e_2a19_11eb_848e_0242ac1c0002row6_col1\" class=\"data row6 col1\" >0.121668</td>\n",
       "                        <td id=\"T_09dc5c7e_2a19_11eb_848e_0242ac1c0002row6_col2\" class=\"data row6 col2\" >1.207603</td>\n",
       "                        <td id=\"T_09dc5c7e_2a19_11eb_848e_0242ac1c0002row6_col3\" class=\"data row6 col3\" >-0.002040</td>\n",
       "                        <td id=\"T_09dc5c7e_2a19_11eb_848e_0242ac1c0002row6_col4\" class=\"data row6 col4\" >1.627796</td>\n",
       "            </tr>\n",
       "            <tr>\n",
       "                        <th id=\"T_09dc5c7e_2a19_11eb_848e_0242ac1c0002level0_row7\" class=\"row_heading level0 row7\" >7</th>\n",
       "                        <td id=\"T_09dc5c7e_2a19_11eb_848e_0242ac1c0002row7_col0\" class=\"data row7 col0\" >8.000000</td>\n",
       "                        <td id=\"T_09dc5c7e_2a19_11eb_848e_0242ac1c0002row7_col1\" class=\"data row7 col1\" >0.354493</td>\n",
       "                        <td id=\"T_09dc5c7e_2a19_11eb_848e_0242ac1c0002row7_col2\" class=\"data row7 col2\" >1.037528</td>\n",
       "                        <td id=\"T_09dc5c7e_2a19_11eb_848e_0242ac1c0002row7_col3\" class=\"data row7 col3\" >-0.385684</td>\n",
       "                        <td id=\"T_09dc5c7e_2a19_11eb_848e_0242ac1c0002row7_col4\" class=\"data row7 col4\" >0.519818</td>\n",
       "            </tr>\n",
       "            <tr>\n",
       "                        <th id=\"T_09dc5c7e_2a19_11eb_848e_0242ac1c0002level0_row8\" class=\"row_heading level0 row8\" >8</th>\n",
       "                        <td id=\"T_09dc5c7e_2a19_11eb_848e_0242ac1c0002row8_col0\" class=\"data row8 col0\" >9.000000</td>\n",
       "                        <td id=\"T_09dc5c7e_2a19_11eb_848e_0242ac1c0002row8_col1\" class=\"data row8 col1\" >1.686583</td>\n",
       "                        <td id=\"T_09dc5c7e_2a19_11eb_848e_0242ac1c0002row8_col2\" class=\"data row8 col2\" >-1.325963</td>\n",
       "                        <td id=\"T_09dc5c7e_2a19_11eb_848e_0242ac1c0002row8_col3\" class=\"data row8 col3\" >1.428984</td>\n",
       "                        <td id=\"T_09dc5c7e_2a19_11eb_848e_0242ac1c0002row8_col4\" class=\"data row8 col4\" >-2.089354</td>\n",
       "            </tr>\n",
       "            <tr>\n",
       "                        <th id=\"T_09dc5c7e_2a19_11eb_848e_0242ac1c0002level0_row9\" class=\"row_heading level0 row9\" >9</th>\n",
       "                        <td id=\"T_09dc5c7e_2a19_11eb_848e_0242ac1c0002row9_col0\" class=\"data row9 col0\" >10.000000</td>\n",
       "                        <td id=\"T_09dc5c7e_2a19_11eb_848e_0242ac1c0002row9_col1\" class=\"data row9 col1\" >-0.129820</td>\n",
       "                        <td id=\"T_09dc5c7e_2a19_11eb_848e_0242ac1c0002row9_col2\" class=\"data row9 col2\" >0.631523</td>\n",
       "                        <td id=\"T_09dc5c7e_2a19_11eb_848e_0242ac1c0002row9_col3\" class=\"data row9 col3\" >-0.586538</td>\n",
       "                        <td id=\"T_09dc5c7e_2a19_11eb_848e_0242ac1c0002row9_col4\" class=\"data row9 col4\" >nan</td>\n",
       "            </tr>\n",
       "    </tbody></table>"
      ],
      "text/plain": [
       "<pandas.io.formats.style.Styler at 0x7f9fa8601160>"
      ]
     },
     "execution_count": 54,
     "metadata": {
      "tags": []
     },
     "output_type": "execute_result"
    }
   ],
   "source": [
    "#10.Create a dataframe of ten rows, four columns with random values. Write a Pandas program to display bar charts in dataframe on specified columns.\n",
    "import pandas as pd\n",
    "import numpy as np\n",
    "np.random.seed(24)\n",
    "df = pd.DataFrame({'A': np.linspace(1, 10, 10)})\n",
    "df = pd.concat([df, pd.DataFrame(np.random.randn(10, 4), columns=list('BCDE'))],\n",
    "               axis=1)\n",
    "df.iloc[0, 2] = np.nan\n",
    "df.iloc[3, 3] = np.nan\n",
    "df.iloc[4, 1] = np.nan\n",
    "df.iloc[9, 4] = np.nan\n",
    "print(\"Original array:\")\n",
    "print(df)\n",
    "print(\"\\nBar charts in dataframe:\")\n",
    "df.style.bar(subset=['B', 'C'], color='#d65f5f')"
   ]
  },
  {
   "cell_type": "code",
   "execution_count": null,
   "metadata": {
    "id": "yaOxqsPDl0zJ"
   },
   "outputs": [],
   "source": []
  }
 ],
 "metadata": {
  "colab": {
   "authorship_tag": "ABX9TyMi3YrLTlOKAwF8bFP+Cvqb",
   "name": "Assignment 2.ipynb",
   "provenance": []
  },
  "kernelspec": {
   "display_name": "Python 3",
   "language": "python",
   "name": "python3"
  },
  "language_info": {
   "codemirror_mode": {
    "name": "ipython",
    "version": 3
   },
   "file_extension": ".py",
   "mimetype": "text/x-python",
   "name": "python",
   "nbconvert_exporter": "python",
   "pygments_lexer": "ipython3",
   "version": "3.7.4"
  }
 },
 "nbformat": 4,
 "nbformat_minor": 1
}
