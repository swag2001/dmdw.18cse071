{
 "cells": [
  {
   "cell_type": "code",
   "execution_count": 1,
   "metadata": {
    "id": "0rNS19ph-eiE"
   },
   "outputs": [],
   "source": [
    "import pandas as pd\n",
    "import numpy as np\n",
    "import matplotlib.pyplot as plt\n",
    "import seaborn as sns\n",
    "get_ipython().run_line_magic('matplotlib','inline')\n",
    "plt.style.use('seaborn-whitegrid')"
   ]
  },
  {
   "cell_type": "code",
   "execution_count": 2,
   "metadata": {
    "colab": {
     "base_uri": "https://localhost:8080/",
     "height": 436
    },
    "id": "l7X5Ytya-2JD",
    "outputId": "d5daad29-89c0-4af7-97eb-225b154145f0"
   },
   "outputs": [
    {
     "data": {
      "text/html": [
       "<div>\n",
       "<style scoped>\n",
       "    .dataframe tbody tr th:only-of-type {\n",
       "        vertical-align: middle;\n",
       "    }\n",
       "\n",
       "    .dataframe tbody tr th {\n",
       "        vertical-align: top;\n",
       "    }\n",
       "\n",
       "    .dataframe thead th {\n",
       "        text-align: right;\n",
       "    }\n",
       "</style>\n",
       "<table border=\"1\" class=\"dataframe\">\n",
       "  <thead>\n",
       "    <tr style=\"text-align: right;\">\n",
       "      <th></th>\n",
       "      <th>Unnamed: 0</th>\n",
       "      <th>school</th>\n",
       "      <th>sex</th>\n",
       "      <th>age</th>\n",
       "      <th>address</th>\n",
       "      <th>famsize</th>\n",
       "      <th>Pstatus</th>\n",
       "      <th>Medu</th>\n",
       "      <th>Fedu</th>\n",
       "      <th>Mjob</th>\n",
       "      <th>...</th>\n",
       "      <th>famrel</th>\n",
       "      <th>freetime</th>\n",
       "      <th>goout</th>\n",
       "      <th>Dalc</th>\n",
       "      <th>Walc</th>\n",
       "      <th>health</th>\n",
       "      <th>absences</th>\n",
       "      <th>G1</th>\n",
       "      <th>G2</th>\n",
       "      <th>G3</th>\n",
       "    </tr>\n",
       "  </thead>\n",
       "  <tbody>\n",
       "    <tr>\n",
       "      <td>0</td>\n",
       "      <td>NaN</td>\n",
       "      <td>GP</td>\n",
       "      <td>F</td>\n",
       "      <td>18</td>\n",
       "      <td>U</td>\n",
       "      <td>GT3</td>\n",
       "      <td>A</td>\n",
       "      <td>4</td>\n",
       "      <td>4</td>\n",
       "      <td>at_home</td>\n",
       "      <td>...</td>\n",
       "      <td>4</td>\n",
       "      <td>3</td>\n",
       "      <td>4</td>\n",
       "      <td>1</td>\n",
       "      <td>1</td>\n",
       "      <td>3</td>\n",
       "      <td>6</td>\n",
       "      <td>5</td>\n",
       "      <td>6</td>\n",
       "      <td>6</td>\n",
       "    </tr>\n",
       "    <tr>\n",
       "      <td>1</td>\n",
       "      <td>NaN</td>\n",
       "      <td>GP</td>\n",
       "      <td>F</td>\n",
       "      <td>17</td>\n",
       "      <td>U</td>\n",
       "      <td>GT3</td>\n",
       "      <td>T</td>\n",
       "      <td>1</td>\n",
       "      <td>1</td>\n",
       "      <td>at_home</td>\n",
       "      <td>...</td>\n",
       "      <td>5</td>\n",
       "      <td>3</td>\n",
       "      <td>3</td>\n",
       "      <td>1</td>\n",
       "      <td>1</td>\n",
       "      <td>3</td>\n",
       "      <td>4</td>\n",
       "      <td>5</td>\n",
       "      <td>5</td>\n",
       "      <td>6</td>\n",
       "    </tr>\n",
       "    <tr>\n",
       "      <td>2</td>\n",
       "      <td>NaN</td>\n",
       "      <td>GP</td>\n",
       "      <td>F</td>\n",
       "      <td>15</td>\n",
       "      <td>U</td>\n",
       "      <td>LE3</td>\n",
       "      <td>T</td>\n",
       "      <td>1</td>\n",
       "      <td>1</td>\n",
       "      <td>at_home</td>\n",
       "      <td>...</td>\n",
       "      <td>4</td>\n",
       "      <td>3</td>\n",
       "      <td>2</td>\n",
       "      <td>2</td>\n",
       "      <td>3</td>\n",
       "      <td>3</td>\n",
       "      <td>10</td>\n",
       "      <td>7</td>\n",
       "      <td>8</td>\n",
       "      <td>10</td>\n",
       "    </tr>\n",
       "    <tr>\n",
       "      <td>3</td>\n",
       "      <td>NaN</td>\n",
       "      <td>GP</td>\n",
       "      <td>F</td>\n",
       "      <td>15</td>\n",
       "      <td>U</td>\n",
       "      <td>GT3</td>\n",
       "      <td>T</td>\n",
       "      <td>4</td>\n",
       "      <td>2</td>\n",
       "      <td>health</td>\n",
       "      <td>...</td>\n",
       "      <td>3</td>\n",
       "      <td>2</td>\n",
       "      <td>2</td>\n",
       "      <td>1</td>\n",
       "      <td>1</td>\n",
       "      <td>5</td>\n",
       "      <td>2</td>\n",
       "      <td>15</td>\n",
       "      <td>14</td>\n",
       "      <td>15</td>\n",
       "    </tr>\n",
       "    <tr>\n",
       "      <td>4</td>\n",
       "      <td>NaN</td>\n",
       "      <td>GP</td>\n",
       "      <td>F</td>\n",
       "      <td>16</td>\n",
       "      <td>U</td>\n",
       "      <td>GT3</td>\n",
       "      <td>T</td>\n",
       "      <td>3</td>\n",
       "      <td>3</td>\n",
       "      <td>other</td>\n",
       "      <td>...</td>\n",
       "      <td>4</td>\n",
       "      <td>3</td>\n",
       "      <td>2</td>\n",
       "      <td>1</td>\n",
       "      <td>2</td>\n",
       "      <td>5</td>\n",
       "      <td>4</td>\n",
       "      <td>6</td>\n",
       "      <td>10</td>\n",
       "      <td>10</td>\n",
       "    </tr>\n",
       "  </tbody>\n",
       "</table>\n",
       "<p>5 rows × 34 columns</p>\n",
       "</div>"
      ],
      "text/plain": [
       "   Unnamed: 0 school sex  age address famsize Pstatus  Medu  Fedu     Mjob  \\\n",
       "0         NaN     GP   F   18       U     GT3       A     4     4  at_home   \n",
       "1         NaN     GP   F   17       U     GT3       T     1     1  at_home   \n",
       "2         NaN     GP   F   15       U     LE3       T     1     1  at_home   \n",
       "3         NaN     GP   F   15       U     GT3       T     4     2   health   \n",
       "4         NaN     GP   F   16       U     GT3       T     3     3    other   \n",
       "\n",
       "   ... famrel freetime goout  Dalc  Walc  health absences  G1  G2  G3  \n",
       "0  ...      4        3     4     1     1       3        6   5   6   6  \n",
       "1  ...      5        3     3     1     1       3        4   5   5   6  \n",
       "2  ...      4        3     2     2     3       3       10   7   8  10  \n",
       "3  ...      3        2     2     1     1       5        2  15  14  15  \n",
       "4  ...      4        3     2     1     2       5        4   6  10  10  \n",
       "\n",
       "[5 rows x 34 columns]"
      ]
     },
     "execution_count": 2,
     "metadata": {},
     "output_type": "execute_result"
    }
   ],
   "source": [
    "df = pd.read_csv(\"https://raw.githubusercontent.com/swag2001/dmdw.18cse071/main/student-mat.csv\")\n",
    "df.head()"
   ]
  },
  {
   "cell_type": "code",
   "execution_count": 3,
   "metadata": {
    "id": "U73T39iX_1Ln"
   },
   "outputs": [],
   "source": [
    "df1=df[['traveltime','studytime']]"
   ]
  },
  {
   "cell_type": "code",
   "execution_count": 4,
   "metadata": {
    "colab": {
     "base_uri": "https://localhost:8080/",
     "height": 195
    },
    "id": "taObCnIYARN0",
    "outputId": "b3ad96ab-8a96-42ee-fcf0-68a0ed762b00"
   },
   "outputs": [
    {
     "data": {
      "text/html": [
       "<div>\n",
       "<style scoped>\n",
       "    .dataframe tbody tr th:only-of-type {\n",
       "        vertical-align: middle;\n",
       "    }\n",
       "\n",
       "    .dataframe tbody tr th {\n",
       "        vertical-align: top;\n",
       "    }\n",
       "\n",
       "    .dataframe thead th {\n",
       "        text-align: right;\n",
       "    }\n",
       "</style>\n",
       "<table border=\"1\" class=\"dataframe\">\n",
       "  <thead>\n",
       "    <tr style=\"text-align: right;\">\n",
       "      <th></th>\n",
       "      <th>traveltime</th>\n",
       "      <th>studytime</th>\n",
       "    </tr>\n",
       "  </thead>\n",
       "  <tbody>\n",
       "    <tr>\n",
       "      <td>0</td>\n",
       "      <td>2</td>\n",
       "      <td>2</td>\n",
       "    </tr>\n",
       "    <tr>\n",
       "      <td>1</td>\n",
       "      <td>1</td>\n",
       "      <td>2</td>\n",
       "    </tr>\n",
       "    <tr>\n",
       "      <td>2</td>\n",
       "      <td>1</td>\n",
       "      <td>2</td>\n",
       "    </tr>\n",
       "    <tr>\n",
       "      <td>3</td>\n",
       "      <td>1</td>\n",
       "      <td>3</td>\n",
       "    </tr>\n",
       "    <tr>\n",
       "      <td>4</td>\n",
       "      <td>1</td>\n",
       "      <td>2</td>\n",
       "    </tr>\n",
       "  </tbody>\n",
       "</table>\n",
       "</div>"
      ],
      "text/plain": [
       "   traveltime  studytime\n",
       "0           2          2\n",
       "1           1          2\n",
       "2           1          2\n",
       "3           1          3\n",
       "4           1          2"
      ]
     },
     "execution_count": 4,
     "metadata": {},
     "output_type": "execute_result"
    }
   ],
   "source": [
    "df1.head()"
   ]
  },
  {
   "cell_type": "code",
   "execution_count": 5,
   "metadata": {
    "id": "ydtj8xWJAdJ5"
   },
   "outputs": [],
   "source": [
    "x=df1['traveltime']\n",
    "y=df1['studytime']"
   ]
  },
  {
   "cell_type": "code",
   "execution_count": 6,
   "metadata": {
    "colab": {
     "base_uri": "https://localhost:8080/",
     "height": 330
    },
    "id": "Ax8iC4AOBHHD",
    "outputId": "5e4ac0b2-a144-483e-d098-ca72960eec5f"
   },
   "outputs": [
    {
     "data": {
      "image/png": "[encoded data removed]",
      "text/plain": [
       "<Figure size 432x288 with 1 Axes>"
      ]
     },
     "metadata": {
      "needs_background": "light"
     },
     "output_type": "display_data"
    }
   ],
   "source": [
    "sns.lineplot(x,y, dashes=True)\n",
    "plt.show()"
   ]
  },
  {
   "cell_type": "markdown",
   "metadata": {},
   "source": [
    "# Correlation"
   ]
  },
  {
   "cell_type": "code",
   "execution_count": 7,
   "metadata": {
    "id": "hC9kj_G4BWyP"
   },
   "outputs": [],
   "source": [
    "from scipy.stats import norm"
   ]
  },
  {
   "cell_type": "code",
   "execution_count": 8,
   "metadata": {
    "colab": {
     "base_uri": "https://localhost:8080/"
    },
    "id": "bV0SwrK2Bq6R",
    "outputId": "c18cfb20-d3a9-44ca-b7e4-8353791b15c6"
   },
   "outputs": [
    {
     "name": "stdout",
     "output_type": "stream",
     "text": [
      "            traveltime  studytime\n",
      "traveltime    1.000000  -0.100909\n",
      "studytime    -0.100909   1.000000\n"
     ]
    }
   ],
   "source": [
    "correlation=df1.corr()\n",
    "print(correlation)"
   ]
  },
  {
   "cell_type": "code",
   "execution_count": 9,
   "metadata": {
    "colab": {
     "base_uri": "https://localhost:8080/",
     "height": 266
    },
    "id": "YsmX-5VyB80O",
    "outputId": "8d2fc07b-0e19-4980-bdb9-abe0b33af0a9"
   },
   "outputs": [
    {
     "data": {
      "image/png": "[encoded data removed]",
      "text/plain": [
       "<Figure size 432x288 with 2 Axes>"
      ]
     },
     "metadata": {
      "needs_background": "light"
     },
     "output_type": "display_data"
    }
   ],
   "source": [
    "sns.heatmap(correlation,cmap='BrBG')\n",
    "plt.show()"
   ]
  },
  {
   "cell_type": "code",
   "execution_count": 10,
   "metadata": {
    "colab": {
     "base_uri": "https://localhost:8080/"
    },
    "id": "4UT-m0m0COEQ",
    "outputId": "34864d31-8904-4501-ccc7-5a0c511ee24c"
   },
   "outputs": [
    {
     "name": "stdout",
     "output_type": "stream",
     "text": [
      "            traveltime  studytime\n",
      "traveltime    0.486513  -0.059070\n",
      "studytime    -0.059070   0.704324\n"
     ]
    }
   ],
   "source": [
    "covar=df1.cov()\n",
    "print(covar)"
   ]
  },
  {
   "cell_type": "code",
   "execution_count": 11,
   "metadata": {
    "colab": {
     "base_uri": "https://localhost:8080/",
     "height": 265
    },
    "id": "oZ0fb9EODBvB",
    "outputId": "62a01aa6-cc2f-46d6-cfd1-90cd26001f21"
   },
   "outputs": [
    {
     "data": {
      "image/png": "[encoded data removed]",
      "text/plain": [
       "<Figure size 432x288 with 2 Axes>"
      ]
     },
     "metadata": {
      "needs_background": "light"
     },
     "output_type": "display_data"
    }
   ],
   "source": [
    "sns.heatmap(covar)\n",
    "plt.show()"
   ]
  },
  {
   "cell_type": "markdown",
   "metadata": {
    "id": "RmhMvLTrDL5s"
   },
   "source": [
    "# Normalization"
   ]
  },
  {
   "cell_type": "code",
   "execution_count": 12,
   "metadata": {
    "colab": {
     "base_uri": "https://localhost:8080/",
     "height": 422
    },
    "id": "fIoSTUTHDefF",
    "outputId": "9ca8b06e-cece-4caa-ec9b-7b34a32e0107"
   },
   "outputs": [
    {
     "data": {
      "text/html": [
       "<div>\n",
       "<style scoped>\n",
       "    .dataframe tbody tr th:only-of-type {\n",
       "        vertical-align: middle;\n",
       "    }\n",
       "\n",
       "    .dataframe tbody tr th {\n",
       "        vertical-align: top;\n",
       "    }\n",
       "\n",
       "    .dataframe thead th {\n",
       "        text-align: right;\n",
       "    }\n",
       "</style>\n",
       "<table border=\"1\" class=\"dataframe\">\n",
       "  <thead>\n",
       "    <tr style=\"text-align: right;\">\n",
       "      <th></th>\n",
       "      <th>Unnamed: 0</th>\n",
       "      <th>school</th>\n",
       "      <th>sex</th>\n",
       "      <th>age</th>\n",
       "      <th>address</th>\n",
       "      <th>famsize</th>\n",
       "      <th>Pstatus</th>\n",
       "      <th>Medu</th>\n",
       "      <th>Fedu</th>\n",
       "      <th>Mjob</th>\n",
       "      <th>...</th>\n",
       "      <th>famrel</th>\n",
       "      <th>freetime</th>\n",
       "      <th>goout</th>\n",
       "      <th>Dalc</th>\n",
       "      <th>Walc</th>\n",
       "      <th>health</th>\n",
       "      <th>absences</th>\n",
       "      <th>G1</th>\n",
       "      <th>G2</th>\n",
       "      <th>G3</th>\n",
       "    </tr>\n",
       "  </thead>\n",
       "  <tbody>\n",
       "    <tr>\n",
       "      <td>0</td>\n",
       "      <td>NaN</td>\n",
       "      <td>GP</td>\n",
       "      <td>F</td>\n",
       "      <td>18</td>\n",
       "      <td>U</td>\n",
       "      <td>GT3</td>\n",
       "      <td>A</td>\n",
       "      <td>4</td>\n",
       "      <td>4</td>\n",
       "      <td>at_home</td>\n",
       "      <td>...</td>\n",
       "      <td>4</td>\n",
       "      <td>3</td>\n",
       "      <td>4</td>\n",
       "      <td>1</td>\n",
       "      <td>1</td>\n",
       "      <td>3</td>\n",
       "      <td>6</td>\n",
       "      <td>5</td>\n",
       "      <td>6</td>\n",
       "      <td>6</td>\n",
       "    </tr>\n",
       "    <tr>\n",
       "      <td>1</td>\n",
       "      <td>NaN</td>\n",
       "      <td>GP</td>\n",
       "      <td>F</td>\n",
       "      <td>17</td>\n",
       "      <td>U</td>\n",
       "      <td>GT3</td>\n",
       "      <td>T</td>\n",
       "      <td>1</td>\n",
       "      <td>1</td>\n",
       "      <td>at_home</td>\n",
       "      <td>...</td>\n",
       "      <td>5</td>\n",
       "      <td>3</td>\n",
       "      <td>3</td>\n",
       "      <td>1</td>\n",
       "      <td>1</td>\n",
       "      <td>3</td>\n",
       "      <td>4</td>\n",
       "      <td>5</td>\n",
       "      <td>5</td>\n",
       "      <td>6</td>\n",
       "    </tr>\n",
       "    <tr>\n",
       "      <td>2</td>\n",
       "      <td>NaN</td>\n",
       "      <td>GP</td>\n",
       "      <td>F</td>\n",
       "      <td>15</td>\n",
       "      <td>U</td>\n",
       "      <td>LE3</td>\n",
       "      <td>T</td>\n",
       "      <td>1</td>\n",
       "      <td>1</td>\n",
       "      <td>at_home</td>\n",
       "      <td>...</td>\n",
       "      <td>4</td>\n",
       "      <td>3</td>\n",
       "      <td>2</td>\n",
       "      <td>2</td>\n",
       "      <td>3</td>\n",
       "      <td>3</td>\n",
       "      <td>10</td>\n",
       "      <td>7</td>\n",
       "      <td>8</td>\n",
       "      <td>10</td>\n",
       "    </tr>\n",
       "    <tr>\n",
       "      <td>3</td>\n",
       "      <td>NaN</td>\n",
       "      <td>GP</td>\n",
       "      <td>F</td>\n",
       "      <td>15</td>\n",
       "      <td>U</td>\n",
       "      <td>GT3</td>\n",
       "      <td>T</td>\n",
       "      <td>4</td>\n",
       "      <td>2</td>\n",
       "      <td>health</td>\n",
       "      <td>...</td>\n",
       "      <td>3</td>\n",
       "      <td>2</td>\n",
       "      <td>2</td>\n",
       "      <td>1</td>\n",
       "      <td>1</td>\n",
       "      <td>5</td>\n",
       "      <td>2</td>\n",
       "      <td>15</td>\n",
       "      <td>14</td>\n",
       "      <td>15</td>\n",
       "    </tr>\n",
       "    <tr>\n",
       "      <td>4</td>\n",
       "      <td>NaN</td>\n",
       "      <td>GP</td>\n",
       "      <td>F</td>\n",
       "      <td>16</td>\n",
       "      <td>U</td>\n",
       "      <td>GT3</td>\n",
       "      <td>T</td>\n",
       "      <td>3</td>\n",
       "      <td>3</td>\n",
       "      <td>other</td>\n",
       "      <td>...</td>\n",
       "      <td>4</td>\n",
       "      <td>3</td>\n",
       "      <td>2</td>\n",
       "      <td>1</td>\n",
       "      <td>2</td>\n",
       "      <td>5</td>\n",
       "      <td>4</td>\n",
       "      <td>6</td>\n",
       "      <td>10</td>\n",
       "      <td>10</td>\n",
       "    </tr>\n",
       "    <tr>\n",
       "      <td>...</td>\n",
       "      <td>...</td>\n",
       "      <td>...</td>\n",
       "      <td>...</td>\n",
       "      <td>...</td>\n",
       "      <td>...</td>\n",
       "      <td>...</td>\n",
       "      <td>...</td>\n",
       "      <td>...</td>\n",
       "      <td>...</td>\n",
       "      <td>...</td>\n",
       "      <td>...</td>\n",
       "      <td>...</td>\n",
       "      <td>...</td>\n",
       "      <td>...</td>\n",
       "      <td>...</td>\n",
       "      <td>...</td>\n",
       "      <td>...</td>\n",
       "      <td>...</td>\n",
       "      <td>...</td>\n",
       "      <td>...</td>\n",
       "      <td>...</td>\n",
       "    </tr>\n",
       "    <tr>\n",
       "      <td>390</td>\n",
       "      <td>NaN</td>\n",
       "      <td>MS</td>\n",
       "      <td>M</td>\n",
       "      <td>20</td>\n",
       "      <td>U</td>\n",
       "      <td>LE3</td>\n",
       "      <td>A</td>\n",
       "      <td>2</td>\n",
       "      <td>2</td>\n",
       "      <td>services</td>\n",
       "      <td>...</td>\n",
       "      <td>5</td>\n",
       "      <td>5</td>\n",
       "      <td>4</td>\n",
       "      <td>4</td>\n",
       "      <td>5</td>\n",
       "      <td>4</td>\n",
       "      <td>11</td>\n",
       "      <td>9</td>\n",
       "      <td>9</td>\n",
       "      <td>9</td>\n",
       "    </tr>\n",
       "    <tr>\n",
       "      <td>391</td>\n",
       "      <td>NaN</td>\n",
       "      <td>MS</td>\n",
       "      <td>M</td>\n",
       "      <td>17</td>\n",
       "      <td>U</td>\n",
       "      <td>LE3</td>\n",
       "      <td>T</td>\n",
       "      <td>3</td>\n",
       "      <td>1</td>\n",
       "      <td>services</td>\n",
       "      <td>...</td>\n",
       "      <td>2</td>\n",
       "      <td>4</td>\n",
       "      <td>5</td>\n",
       "      <td>3</td>\n",
       "      <td>4</td>\n",
       "      <td>2</td>\n",
       "      <td>3</td>\n",
       "      <td>14</td>\n",
       "      <td>16</td>\n",
       "      <td>16</td>\n",
       "    </tr>\n",
       "    <tr>\n",
       "      <td>392</td>\n",
       "      <td>NaN</td>\n",
       "      <td>MS</td>\n",
       "      <td>M</td>\n",
       "      <td>21</td>\n",
       "      <td>R</td>\n",
       "      <td>GT3</td>\n",
       "      <td>T</td>\n",
       "      <td>1</td>\n",
       "      <td>1</td>\n",
       "      <td>other</td>\n",
       "      <td>...</td>\n",
       "      <td>5</td>\n",
       "      <td>5</td>\n",
       "      <td>3</td>\n",
       "      <td>3</td>\n",
       "      <td>3</td>\n",
       "      <td>3</td>\n",
       "      <td>3</td>\n",
       "      <td>10</td>\n",
       "      <td>8</td>\n",
       "      <td>7</td>\n",
       "    </tr>\n",
       "    <tr>\n",
       "      <td>393</td>\n",
       "      <td>NaN</td>\n",
       "      <td>MS</td>\n",
       "      <td>M</td>\n",
       "      <td>18</td>\n",
       "      <td>R</td>\n",
       "      <td>LE3</td>\n",
       "      <td>T</td>\n",
       "      <td>3</td>\n",
       "      <td>2</td>\n",
       "      <td>services</td>\n",
       "      <td>...</td>\n",
       "      <td>4</td>\n",
       "      <td>4</td>\n",
       "      <td>1</td>\n",
       "      <td>3</td>\n",
       "      <td>4</td>\n",
       "      <td>5</td>\n",
       "      <td>0</td>\n",
       "      <td>11</td>\n",
       "      <td>12</td>\n",
       "      <td>10</td>\n",
       "    </tr>\n",
       "    <tr>\n",
       "      <td>394</td>\n",
       "      <td>NaN</td>\n",
       "      <td>MS</td>\n",
       "      <td>M</td>\n",
       "      <td>19</td>\n",
       "      <td>U</td>\n",
       "      <td>LE3</td>\n",
       "      <td>T</td>\n",
       "      <td>1</td>\n",
       "      <td>1</td>\n",
       "      <td>other</td>\n",
       "      <td>...</td>\n",
       "      <td>3</td>\n",
       "      <td>2</td>\n",
       "      <td>3</td>\n",
       "      <td>3</td>\n",
       "      <td>3</td>\n",
       "      <td>5</td>\n",
       "      <td>5</td>\n",
       "      <td>8</td>\n",
       "      <td>9</td>\n",
       "      <td>9</td>\n",
       "    </tr>\n",
       "  </tbody>\n",
       "</table>\n",
       "<p>395 rows × 34 columns</p>\n",
       "</div>"
      ],
      "text/plain": [
       "     Unnamed: 0 school sex  age address famsize Pstatus  Medu  Fedu      Mjob  \\\n",
       "0           NaN     GP   F   18       U     GT3       A     4     4   at_home   \n",
       "1           NaN     GP   F   17       U     GT3       T     1     1   at_home   \n",
       "2           NaN     GP   F   15       U     LE3       T     1     1   at_home   \n",
       "3           NaN     GP   F   15       U     GT3       T     4     2    health   \n",
       "4           NaN     GP   F   16       U     GT3       T     3     3     other   \n",
       "..          ...    ...  ..  ...     ...     ...     ...   ...   ...       ...   \n",
       "390         NaN     MS   M   20       U     LE3       A     2     2  services   \n",
       "391         NaN     MS   M   17       U     LE3       T     3     1  services   \n",
       "392         NaN     MS   M   21       R     GT3       T     1     1     other   \n",
       "393         NaN     MS   M   18       R     LE3       T     3     2  services   \n",
       "394         NaN     MS   M   19       U     LE3       T     1     1     other   \n",
       "\n",
       "     ... famrel freetime goout  Dalc  Walc  health absences  G1  G2  G3  \n",
       "0    ...      4        3     4     1     1       3        6   5   6   6  \n",
       "1    ...      5        3     3     1     1       3        4   5   5   6  \n",
       "2    ...      4        3     2     2     3       3       10   7   8  10  \n",
       "3    ...      3        2     2     1     1       5        2  15  14  15  \n",
       "4    ...      4        3     2     1     2       5        4   6  10  10  \n",
       "..   ...    ...      ...   ...   ...   ...     ...      ...  ..  ..  ..  \n",
       "390  ...      5        5     4     4     5       4       11   9   9   9  \n",
       "391  ...      2        4     5     3     4       2        3  14  16  16  \n",
       "392  ...      5        5     3     3     3       3        3  10   8   7  \n",
       "393  ...      4        4     1     3     4       5        0  11  12  10  \n",
       "394  ...      3        2     3     3     3       5        5   8   9   9  \n",
       "\n",
       "[395 rows x 34 columns]"
      ]
     },
     "execution_count": 12,
     "metadata": {},
     "output_type": "execute_result"
    }
   ],
   "source": [
    "df"
   ]
  },
  {
   "cell_type": "code",
   "execution_count": 13,
   "metadata": {
    "colab": {
     "base_uri": "https://localhost:8080/"
    },
    "id": "n_CXIh7nEwEP",
    "outputId": "92cdfcba-e0be-4641-b77e-204530cbdccf"
   },
   "outputs": [
    {
     "data": {
      "text/plain": [
       "(395, 34)"
      ]
     },
     "execution_count": 13,
     "metadata": {},
     "output_type": "execute_result"
    }
   ],
   "source": [
    "df.shape"
   ]
  },
  {
   "cell_type": "code",
   "execution_count": 14,
   "metadata": {
    "id": "F9HH20CKDnDA"
   },
   "outputs": [],
   "source": [
    "age=np.array(df['age'])"
   ]
  },
  {
   "cell_type": "code",
   "execution_count": 15,
   "metadata": {
    "colab": {
     "base_uri": "https://localhost:8080/"
    },
    "id": "HH4-bGE-D5RN",
    "outputId": "e04c24c3-1c16-4ab8-cc41-20e1489aec90"
   },
   "outputs": [
    {
     "data": {
      "text/plain": [
       "array([18, 17, 15, 15, 16, 16, 16, 17, 15, 15, 15, 15, 15, 15, 15, 16, 16,\n",
       "       16, 17, 16, 15, 15, 16, 16, 15, 16, 15, 15, 16, 16, 15, 15, 15, 15,\n",
       "       16, 15, 15, 16, 15, 15, 16, 15, 15, 15, 16, 15, 16, 16, 15, 15, 16,\n",
       "       15, 15, 15, 15, 16, 15, 15, 15, 16, 16, 16, 16, 16, 15, 16, 15, 16,\n",
       "       15, 15, 16, 15, 15, 16, 16, 15, 15, 16, 17, 16, 15, 15, 15, 15, 15,\n",
       "       15, 16, 15, 16, 16, 16, 15, 16, 16, 15, 15, 16, 16, 16, 16, 16, 16,\n",
       "       15, 15, 15, 15, 15, 16, 15, 16, 15, 16, 16, 15, 15, 16, 15, 16, 17,\n",
       "       15, 15, 15, 16, 16, 16, 15, 15, 19, 18, 16, 15, 15, 17, 16, 15, 15,\n",
       "       17, 16, 16, 15, 15, 16, 15, 16, 17, 15, 15, 15, 16, 15, 18, 16, 15,\n",
       "       19, 17, 15, 17, 18, 16, 16, 17, 15, 16, 17, 17, 16, 16, 16, 16, 16,\n",
       "       16, 16, 17, 16, 16, 17, 16, 17, 16, 17, 16, 16, 17, 17, 16, 17, 16,\n",
       "       16, 17, 17, 16, 17, 17, 16, 16, 17, 17, 16, 17, 16, 16, 16, 17, 17,\n",
       "       16, 17, 16, 16, 16, 17, 19, 17, 16, 18, 17, 17, 17, 18, 17, 17, 17,\n",
       "       17, 16, 18, 16, 18, 17, 17, 18, 17, 17, 17, 17, 16, 16, 16, 17, 16,\n",
       "       17, 18, 17, 17, 16, 16, 18, 16, 17, 22, 18, 16, 18, 16, 18, 16, 17,\n",
       "       17, 17, 19, 18, 17, 18, 18, 18, 17, 18, 18, 17, 18, 18, 18, 19, 18,\n",
       "       18, 17, 17, 17, 18, 18, 18, 18, 17, 17, 18, 18, 17, 17, 18, 17, 18,\n",
       "       18, 18, 17, 18, 17, 18, 17, 19, 18, 18, 18, 18, 17, 17, 17, 19, 18,\n",
       "       20, 19, 19, 19, 19, 19, 19, 19, 19, 19, 18, 18, 17, 18, 17, 17, 17,\n",
       "       17, 17, 18, 17, 17, 17, 17, 18, 17, 18, 18, 18, 17, 19, 17, 18, 17,\n",
       "       19, 18, 18, 17, 18, 18, 18, 18, 17, 18, 19, 17, 18, 19, 17, 18, 17,\n",
       "       17, 18, 18, 18, 18, 18, 17, 17, 18, 18, 17, 18, 18, 19, 18, 17, 17,\n",
       "       18, 18, 20, 18, 18, 17, 18, 18, 17, 19, 18, 18, 18, 19, 18, 18, 20,\n",
       "       17, 21, 18, 19], dtype=int64)"
      ]
     },
     "execution_count": 15,
     "metadata": {},
     "output_type": "execute_result"
    }
   ],
   "source": [
    "age"
   ]
  },
  {
   "cell_type": "code",
   "execution_count": 16,
   "metadata": {
    "colab": {
     "base_uri": "https://localhost:8080/"
    },
    "id": "czFAmdv5D669",
    "outputId": "ba6fcff1-bd1b-4601-cfdb-cae5df0bf723"
   },
   "outputs": [
    {
     "name": "stdout",
     "output_type": "stream",
     "text": [
      "max age 22\n"
     ]
    }
   ],
   "source": [
    "age=np.array(df['age'])\n",
    "print(\"max age\",max(age))\n",
    "age=age.reshape(395,1)"
   ]
  },
  {
   "cell_type": "code",
   "execution_count": 17,
   "metadata": {
    "colab": {
     "base_uri": "https://localhost:8080/"
    },
    "id": "94pUDcmJEZf4",
    "outputId": "c40fb3ee-9db6-4b31-ba73-dea356fc6c37"
   },
   "outputs": [
    {
     "name": "stdout",
     "output_type": "stream",
     "text": [
      "MIn age 15\n"
     ]
    }
   ],
   "source": [
    "age=np.array(df['age'])\n",
    "print(\"MIn age\",min(age))\n",
    "age=age.reshape(395,1)"
   ]
  },
  {
   "cell_type": "code",
   "execution_count": 18,
   "metadata": {
    "id": "R6lrlr66FPUg"
   },
   "outputs": [],
   "source": [
    "from scipy import stats\n",
    "zscore=np.array(stats.zscore(age))\n",
    "zscore=zscore[0:394]\n",
    "zscore=zscore.reshape(2,197)"
   ]
  },
  {
   "cell_type": "code",
   "execution_count": 19,
   "metadata": {
    "colab": {
     "base_uri": "https://localhost:8080/"
    },
    "id": "t2LAvF7PF72k",
    "outputId": "33c76127-5678-479f-814a-7b6c18da0c1a"
   },
   "outputs": [
    {
     "data": {
      "text/plain": [
       "array([[ 1.02304645,  0.23837976, -1.33095364, -1.33095364, -0.54628694,\n",
       "        -0.54628694, -0.54628694,  0.23837976, -1.33095364, -1.33095364,\n",
       "        -1.33095364, -1.33095364, -1.33095364, -1.33095364, -1.33095364,\n",
       "        -0.54628694, -0.54628694, -0.54628694,  0.23837976, -0.54628694,\n",
       "        -1.33095364, -1.33095364, -0.54628694, -0.54628694, -1.33095364,\n",
       "        -0.54628694, -1.33095364, -1.33095364, -0.54628694, -0.54628694,\n",
       "        -1.33095364, -1.33095364, -1.33095364, -1.33095364, -0.54628694,\n",
       "        -1.33095364, -1.33095364, -0.54628694, -1.33095364, -1.33095364,\n",
       "        -0.54628694, -1.33095364, -1.33095364, -1.33095364, -0.54628694,\n",
       "        -1.33095364, -0.54628694, -0.54628694, -1.33095364, -1.33095364,\n",
       "        -0.54628694, -1.33095364, -1.33095364, -1.33095364, -1.33095364,\n",
       "        -0.54628694, -1.33095364, -1.33095364, -1.33095364, -0.54628694,\n",
       "        -0.54628694, -0.54628694, -0.54628694, -0.54628694, -1.33095364,\n",
       "        -0.54628694, -1.33095364, -0.54628694, -1.33095364, -1.33095364,\n",
       "        -0.54628694, -1.33095364, -1.33095364, -0.54628694, -0.54628694,\n",
       "        -1.33095364, -1.33095364, -0.54628694,  0.23837976, -0.54628694,\n",
       "        -1.33095364, -1.33095364, -1.33095364, -1.33095364, -1.33095364,\n",
       "        -1.33095364, -0.54628694, -1.33095364, -0.54628694, -0.54628694,\n",
       "        -0.54628694, -1.33095364, -0.54628694, -0.54628694, -1.33095364,\n",
       "        -1.33095364, -0.54628694, -0.54628694, -0.54628694, -0.54628694,\n",
       "        -0.54628694, -0.54628694, -1.33095364, -1.33095364, -1.33095364,\n",
       "        -1.33095364, -1.33095364, -0.54628694, -1.33095364, -0.54628694,\n",
       "        -1.33095364, -0.54628694, -0.54628694, -1.33095364, -1.33095364,\n",
       "        -0.54628694, -1.33095364, -0.54628694,  0.23837976, -1.33095364,\n",
       "        -1.33095364, -1.33095364, -0.54628694, -0.54628694, -0.54628694,\n",
       "        -1.33095364, -1.33095364,  1.80771315,  1.02304645, -0.54628694,\n",
       "        -1.33095364, -1.33095364,  0.23837976, -0.54628694, -1.33095364,\n",
       "        -1.33095364,  0.23837976, -0.54628694, -0.54628694, -1.33095364,\n",
       "        -1.33095364, -0.54628694, -1.33095364, -0.54628694,  0.23837976,\n",
       "        -1.33095364, -1.33095364, -1.33095364, -0.54628694, -1.33095364,\n",
       "         1.02304645, -0.54628694, -1.33095364,  1.80771315,  0.23837976,\n",
       "        -1.33095364,  0.23837976,  1.02304645, -0.54628694, -0.54628694,\n",
       "         0.23837976, -1.33095364, -0.54628694,  0.23837976,  0.23837976,\n",
       "        -0.54628694, -0.54628694, -0.54628694, -0.54628694, -0.54628694,\n",
       "        -0.54628694, -0.54628694,  0.23837976, -0.54628694, -0.54628694,\n",
       "         0.23837976, -0.54628694,  0.23837976, -0.54628694,  0.23837976,\n",
       "        -0.54628694, -0.54628694,  0.23837976,  0.23837976, -0.54628694,\n",
       "         0.23837976, -0.54628694, -0.54628694,  0.23837976,  0.23837976,\n",
       "        -0.54628694,  0.23837976,  0.23837976, -0.54628694, -0.54628694,\n",
       "         0.23837976,  0.23837976],\n",
       "       [-0.54628694,  0.23837976, -0.54628694, -0.54628694, -0.54628694,\n",
       "         0.23837976,  0.23837976, -0.54628694,  0.23837976, -0.54628694,\n",
       "        -0.54628694, -0.54628694,  0.23837976,  1.80771315,  0.23837976,\n",
       "        -0.54628694,  1.02304645,  0.23837976,  0.23837976,  0.23837976,\n",
       "         1.02304645,  0.23837976,  0.23837976,  0.23837976,  0.23837976,\n",
       "        -0.54628694,  1.02304645, -0.54628694,  1.02304645,  0.23837976,\n",
       "         0.23837976,  1.02304645,  0.23837976,  0.23837976,  0.23837976,\n",
       "         0.23837976, -0.54628694, -0.54628694, -0.54628694,  0.23837976,\n",
       "        -0.54628694,  0.23837976,  1.02304645,  0.23837976,  0.23837976,\n",
       "        -0.54628694, -0.54628694,  1.02304645, -0.54628694,  0.23837976,\n",
       "         4.16171325,  1.02304645, -0.54628694,  1.02304645, -0.54628694,\n",
       "         1.02304645, -0.54628694,  0.23837976,  0.23837976,  0.23837976,\n",
       "         1.80771315,  1.02304645,  0.23837976,  1.02304645,  1.02304645,\n",
       "         1.02304645,  0.23837976,  1.02304645,  1.02304645,  0.23837976,\n",
       "         1.02304645,  1.02304645,  1.02304645,  1.80771315,  1.02304645,\n",
       "         1.02304645,  0.23837976,  0.23837976,  0.23837976,  1.02304645,\n",
       "         1.02304645,  1.02304645,  1.02304645,  0.23837976,  0.23837976,\n",
       "         1.02304645,  1.02304645,  0.23837976,  0.23837976,  1.02304645,\n",
       "         0.23837976,  1.02304645,  1.02304645,  1.02304645,  0.23837976,\n",
       "         1.02304645,  0.23837976,  1.02304645,  0.23837976,  1.80771315,\n",
       "         1.02304645,  1.02304645,  1.02304645,  1.02304645,  0.23837976,\n",
       "         0.23837976,  0.23837976,  1.80771315,  1.02304645,  2.59237985,\n",
       "         1.80771315,  1.80771315,  1.80771315,  1.80771315,  1.80771315,\n",
       "         1.80771315,  1.80771315,  1.80771315,  1.80771315,  1.02304645,\n",
       "         1.02304645,  0.23837976,  1.02304645,  0.23837976,  0.23837976,\n",
       "         0.23837976,  0.23837976,  0.23837976,  1.02304645,  0.23837976,\n",
       "         0.23837976,  0.23837976,  0.23837976,  1.02304645,  0.23837976,\n",
       "         1.02304645,  1.02304645,  1.02304645,  0.23837976,  1.80771315,\n",
       "         0.23837976,  1.02304645,  0.23837976,  1.80771315,  1.02304645,\n",
       "         1.02304645,  0.23837976,  1.02304645,  1.02304645,  1.02304645,\n",
       "         1.02304645,  0.23837976,  1.02304645,  1.80771315,  0.23837976,\n",
       "         1.02304645,  1.80771315,  0.23837976,  1.02304645,  0.23837976,\n",
       "         0.23837976,  1.02304645,  1.02304645,  1.02304645,  1.02304645,\n",
       "         1.02304645,  0.23837976,  0.23837976,  1.02304645,  1.02304645,\n",
       "         0.23837976,  1.02304645,  1.02304645,  1.80771315,  1.02304645,\n",
       "         0.23837976,  0.23837976,  1.02304645,  1.02304645,  2.59237985,\n",
       "         1.02304645,  1.02304645,  0.23837976,  1.02304645,  1.02304645,\n",
       "         0.23837976,  1.80771315,  1.02304645,  1.02304645,  1.02304645,\n",
       "         1.80771315,  1.02304645,  1.02304645,  2.59237985,  0.23837976,\n",
       "         3.37704655,  1.02304645]])"
      ]
     },
     "execution_count": 19,
     "metadata": {},
     "output_type": "execute_result"
    }
   ],
   "source": [
    "zscore"
   ]
  },
  {
   "cell_type": "markdown",
   "metadata": {
    "id": "38d8VSeCGRwm"
   },
   "source": [
    "# Decimal NOrmalization"
   ]
  },
  {
   "cell_type": "code",
   "execution_count": 20,
   "metadata": {
    "id": "bxZ9Ba1CG_Yc"
   },
   "outputs": [],
   "source": [
    "dn=[]\n",
    "dn.append(age/pow(10,2) )\n",
    "dn=np.array(dn)"
   ]
  },
  {
   "cell_type": "code",
   "execution_count": 21,
   "metadata": {
    "colab": {
     "base_uri": "https://localhost:8080/"
    },
    "id": "RZQYUH4qHi-P",
    "outputId": "bf8b2da6-1da9-4040-dd76-f21956df19b6"
   },
   "outputs": [
    {
     "data": {
      "text/plain": [
       "array([[[0.18],\n",
       "        [0.17],\n",
       "        [0.15],\n",
       "        [0.15],\n",
       "        [0.16],\n",
       "        [0.16],\n",
       "        [0.16],\n",
       "        [0.17],\n",
       "        [0.15],\n",
       "        [0.15],\n",
       "        [0.15],\n",
       "        [0.15],\n",
       "        [0.15],\n",
       "        [0.15],\n",
       "        [0.15],\n",
       "        [0.16],\n",
       "        [0.16],\n",
       "        [0.16],\n",
       "        [0.17],\n",
       "        [0.16],\n",
       "        [0.15],\n",
       "        [0.15],\n",
       "        [0.16],\n",
       "        [0.16],\n",
       "        [0.15],\n",
       "        [0.16],\n",
       "        [0.15],\n",
       "        [0.15],\n",
       "        [0.16],\n",
       "        [0.16],\n",
       "        [0.15],\n",
       "        [0.15],\n",
       "        [0.15],\n",
       "        [0.15],\n",
       "        [0.16],\n",
       "        [0.15],\n",
       "        [0.15],\n",
       "        [0.16],\n",
       "        [0.15],\n",
       "        [0.15],\n",
       "        [0.16],\n",
       "        [0.15],\n",
       "        [0.15],\n",
       "        [0.15],\n",
       "        [0.16],\n",
       "        [0.15],\n",
       "        [0.16],\n",
       "        [0.16],\n",
       "        [0.15],\n",
       "        [0.15],\n",
       "        [0.16],\n",
       "        [0.15],\n",
       "        [0.15],\n",
       "        [0.15],\n",
       "        [0.15],\n",
       "        [0.16],\n",
       "        [0.15],\n",
       "        [0.15],\n",
       "        [0.15],\n",
       "        [0.16],\n",
       "        [0.16],\n",
       "        [0.16],\n",
       "        [0.16],\n",
       "        [0.16],\n",
       "        [0.15],\n",
       "        [0.16],\n",
       "        [0.15],\n",
       "        [0.16],\n",
       "        [0.15],\n",
       "        [0.15],\n",
       "        [0.16],\n",
       "        [0.15],\n",
       "        [0.15],\n",
       "        [0.16],\n",
       "        [0.16],\n",
       "        [0.15],\n",
       "        [0.15],\n",
       "        [0.16],\n",
       "        [0.17],\n",
       "        [0.16],\n",
       "        [0.15],\n",
       "        [0.15],\n",
       "        [0.15],\n",
       "        [0.15],\n",
       "        [0.15],\n",
       "        [0.15],\n",
       "        [0.16],\n",
       "        [0.15],\n",
       "        [0.16],\n",
       "        [0.16],\n",
       "        [0.16],\n",
       "        [0.15],\n",
       "        [0.16],\n",
       "        [0.16],\n",
       "        [0.15],\n",
       "        [0.15],\n",
       "        [0.16],\n",
       "        [0.16],\n",
       "        [0.16],\n",
       "        [0.16],\n",
       "        [0.16],\n",
       "        [0.16],\n",
       "        [0.15],\n",
       "        [0.15],\n",
       "        [0.15],\n",
       "        [0.15],\n",
       "        [0.15],\n",
       "        [0.16],\n",
       "        [0.15],\n",
       "        [0.16],\n",
       "        [0.15],\n",
       "        [0.16],\n",
       "        [0.16],\n",
       "        [0.15],\n",
       "        [0.15],\n",
       "        [0.16],\n",
       "        [0.15],\n",
       "        [0.16],\n",
       "        [0.17],\n",
       "        [0.15],\n",
       "        [0.15],\n",
       "        [0.15],\n",
       "        [0.16],\n",
       "        [0.16],\n",
       "        [0.16],\n",
       "        [0.15],\n",
       "        [0.15],\n",
       "        [0.19],\n",
       "        [0.18],\n",
       "        [0.16],\n",
       "        [0.15],\n",
       "        [0.15],\n",
       "        [0.17],\n",
       "        [0.16],\n",
       "        [0.15],\n",
       "        [0.15],\n",
       "        [0.17],\n",
       "        [0.16],\n",
       "        [0.16],\n",
       "        [0.15],\n",
       "        [0.15],\n",
       "        [0.16],\n",
       "        [0.15],\n",
       "        [0.16],\n",
       "        [0.17],\n",
       "        [0.15],\n",
       "        [0.15],\n",
       "        [0.15],\n",
       "        [0.16],\n",
       "        [0.15],\n",
       "        [0.18],\n",
       "        [0.16],\n",
       "        [0.15],\n",
       "        [0.19],\n",
       "        [0.17],\n",
       "        [0.15],\n",
       "        [0.17],\n",
       "        [0.18],\n",
       "        [0.16],\n",
       "        [0.16],\n",
       "        [0.17],\n",
       "        [0.15],\n",
       "        [0.16],\n",
       "        [0.17],\n",
       "        [0.17],\n",
       "        [0.16],\n",
       "        [0.16],\n",
       "        [0.16],\n",
       "        [0.16],\n",
       "        [0.16],\n",
       "        [0.16],\n",
       "        [0.16],\n",
       "        [0.17],\n",
       "        [0.16],\n",
       "        [0.16],\n",
       "        [0.17],\n",
       "        [0.16],\n",
       "        [0.17],\n",
       "        [0.16],\n",
       "        [0.17],\n",
       "        [0.16],\n",
       "        [0.16],\n",
       "        [0.17],\n",
       "        [0.17],\n",
       "        [0.16],\n",
       "        [0.17],\n",
       "        [0.16],\n",
       "        [0.16],\n",
       "        [0.17],\n",
       "        [0.17],\n",
       "        [0.16],\n",
       "        [0.17],\n",
       "        [0.17],\n",
       "        [0.16],\n",
       "        [0.16],\n",
       "        [0.17],\n",
       "        [0.17],\n",
       "        [0.16],\n",
       "        [0.17],\n",
       "        [0.16],\n",
       "        [0.16],\n",
       "        [0.16],\n",
       "        [0.17],\n",
       "        [0.17],\n",
       "        [0.16],\n",
       "        [0.17],\n",
       "        [0.16],\n",
       "        [0.16],\n",
       "        [0.16],\n",
       "        [0.17],\n",
       "        [0.19],\n",
       "        [0.17],\n",
       "        [0.16],\n",
       "        [0.18],\n",
       "        [0.17],\n",
       "        [0.17],\n",
       "        [0.17],\n",
       "        [0.18],\n",
       "        [0.17],\n",
       "        [0.17],\n",
       "        [0.17],\n",
       "        [0.17],\n",
       "        [0.16],\n",
       "        [0.18],\n",
       "        [0.16],\n",
       "        [0.18],\n",
       "        [0.17],\n",
       "        [0.17],\n",
       "        [0.18],\n",
       "        [0.17],\n",
       "        [0.17],\n",
       "        [0.17],\n",
       "        [0.17],\n",
       "        [0.16],\n",
       "        [0.16],\n",
       "        [0.16],\n",
       "        [0.17],\n",
       "        [0.16],\n",
       "        [0.17],\n",
       "        [0.18],\n",
       "        [0.17],\n",
       "        [0.17],\n",
       "        [0.16],\n",
       "        [0.16],\n",
       "        [0.18],\n",
       "        [0.16],\n",
       "        [0.17],\n",
       "        [0.22],\n",
       "        [0.18],\n",
       "        [0.16],\n",
       "        [0.18],\n",
       "        [0.16],\n",
       "        [0.18],\n",
       "        [0.16],\n",
       "        [0.17],\n",
       "        [0.17],\n",
       "        [0.17],\n",
       "        [0.19],\n",
       "        [0.18],\n",
       "        [0.17],\n",
       "        [0.18],\n",
       "        [0.18],\n",
       "        [0.18],\n",
       "        [0.17],\n",
       "        [0.18],\n",
       "        [0.18],\n",
       "        [0.17],\n",
       "        [0.18],\n",
       "        [0.18],\n",
       "        [0.18],\n",
       "        [0.19],\n",
       "        [0.18],\n",
       "        [0.18],\n",
       "        [0.17],\n",
       "        [0.17],\n",
       "        [0.17],\n",
       "        [0.18],\n",
       "        [0.18],\n",
       "        [0.18],\n",
       "        [0.18],\n",
       "        [0.17],\n",
       "        [0.17],\n",
       "        [0.18],\n",
       "        [0.18],\n",
       "        [0.17],\n",
       "        [0.17],\n",
       "        [0.18],\n",
       "        [0.17],\n",
       "        [0.18],\n",
       "        [0.18],\n",
       "        [0.18],\n",
       "        [0.17],\n",
       "        [0.18],\n",
       "        [0.17],\n",
       "        [0.18],\n",
       "        [0.17],\n",
       "        [0.19],\n",
       "        [0.18],\n",
       "        [0.18],\n",
       "        [0.18],\n",
       "        [0.18],\n",
       "        [0.17],\n",
       "        [0.17],\n",
       "        [0.17],\n",
       "        [0.19],\n",
       "        [0.18],\n",
       "        [0.2 ],\n",
       "        [0.19],\n",
       "        [0.19],\n",
       "        [0.19],\n",
       "        [0.19],\n",
       "        [0.19],\n",
       "        [0.19],\n",
       "        [0.19],\n",
       "        [0.19],\n",
       "        [0.19],\n",
       "        [0.18],\n",
       "        [0.18],\n",
       "        [0.17],\n",
       "        [0.18],\n",
       "        [0.17],\n",
       "        [0.17],\n",
       "        [0.17],\n",
       "        [0.17],\n",
       "        [0.17],\n",
       "        [0.18],\n",
       "        [0.17],\n",
       "        [0.17],\n",
       "        [0.17],\n",
       "        [0.17],\n",
       "        [0.18],\n",
       "        [0.17],\n",
       "        [0.18],\n",
       "        [0.18],\n",
       "        [0.18],\n",
       "        [0.17],\n",
       "        [0.19],\n",
       "        [0.17],\n",
       "        [0.18],\n",
       "        [0.17],\n",
       "        [0.19],\n",
       "        [0.18],\n",
       "        [0.18],\n",
       "        [0.17],\n",
       "        [0.18],\n",
       "        [0.18],\n",
       "        [0.18],\n",
       "        [0.18],\n",
       "        [0.17],\n",
       "        [0.18],\n",
       "        [0.19],\n",
       "        [0.17],\n",
       "        [0.18],\n",
       "        [0.19],\n",
       "        [0.17],\n",
       "        [0.18],\n",
       "        [0.17],\n",
       "        [0.17],\n",
       "        [0.18],\n",
       "        [0.18],\n",
       "        [0.18],\n",
       "        [0.18],\n",
       "        [0.18],\n",
       "        [0.17],\n",
       "        [0.17],\n",
       "        [0.18],\n",
       "        [0.18],\n",
       "        [0.17],\n",
       "        [0.18],\n",
       "        [0.18],\n",
       "        [0.19],\n",
       "        [0.18],\n",
       "        [0.17],\n",
       "        [0.17],\n",
       "        [0.18],\n",
       "        [0.18],\n",
       "        [0.2 ],\n",
       "        [0.18],\n",
       "        [0.18],\n",
       "        [0.17],\n",
       "        [0.18],\n",
       "        [0.18],\n",
       "        [0.17],\n",
       "        [0.19],\n",
       "        [0.18],\n",
       "        [0.18],\n",
       "        [0.18],\n",
       "        [0.19],\n",
       "        [0.18],\n",
       "        [0.18],\n",
       "        [0.2 ],\n",
       "        [0.17],\n",
       "        [0.21],\n",
       "        [0.18],\n",
       "        [0.19]]])"
      ]
     },
     "execution_count": 21,
     "metadata": {},
     "output_type": "execute_result"
    }
   ],
   "source": [
    "dn"
   ]
  },
  {
   "cell_type": "markdown",
   "metadata": {
    "id": "yPLEVDpYHkJF"
   },
   "source": [
    "# Min-Max Normalization "
   ]
  },
  {
   "cell_type": "code",
   "execution_count": 22,
   "metadata": {
    "id": "1JYyb3FYxO3U"
   },
   "outputs": [
    {
     "name": "stdout",
     "output_type": "stream",
     "text": [
      "max age 22\n"
     ]
    }
   ],
   "source": [
    "age=np.array(df['age'])\n",
    "print(\"max age\",max(age))\n",
    "age=age.reshape(395,1)"
   ]
  },
  {
   "cell_type": "code",
   "execution_count": 23,
   "metadata": {},
   "outputs": [
    {
     "name": "stdout",
     "output_type": "stream",
     "text": [
      "min age 15\n"
     ]
    }
   ],
   "source": [
    "age=np.array(df['age'])\n",
    "print(\"min age\",min(age))\n",
    "age=age.reshape(395,1)"
   ]
  },
  {
   "cell_type": "code",
   "execution_count": null,
   "metadata": {},
   "outputs": [],
   "source": []
  }
 ],
 "metadata": {
  "colab": {
   "name": "Copy of Assignment_5_Correlation.ipynb",
   "provenance": []
  },
  "kernelspec": {
   "display_name": "Python 3",
   "language": "python",
   "name": "python3"
  },
  "language_info": {
   "codemirror_mode": {
    "name": "ipython",
    "version": 3
   },
   "file_extension": ".py",
   "mimetype": "text/x-python",
   "name": "python",
   "nbconvert_exporter": "python",
   "pygments_lexer": "ipython3",
   "version": "3.7.4"
  }
 },
 "nbformat": 4,
 "nbformat_minor": 1
}
